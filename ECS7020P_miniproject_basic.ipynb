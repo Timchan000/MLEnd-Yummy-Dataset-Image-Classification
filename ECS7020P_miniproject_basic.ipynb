{
  "nbformat": 4,
  "nbformat_minor": 0,
  "metadata": {
    "colab": {
      "provenance": []
    },
    "kernelspec": {
      "name": "python3",
      "display_name": "Python 3"
    },
    "language_info": {
      "name": "python"
    }
  },
  "cells": [
    {
      "cell_type": "markdown",
      "source": [
        "# 1 Author\n",
        "\n",
        "**Student Name**: Chan King Ning\n",
        "\n",
        "**Student ID**: 230509074"
      ],
      "metadata": {
        "id": "BEp2aS1th1hY"
      }
    },
    {
      "cell_type": "markdown",
      "source": [
        "# 2 Problem formulation\n",
        "\n",
        "For the basic part, I will solve a classification problem to classify the images of 'rice' and 'chips'. The interesting part is that in order to make classification, I need to perform feature extraction from images and extract important and special features for images of 'rice' and 'chips'. This project has important applications such as food images classification could help users by tracking their diet in food identification app."
      ],
      "metadata": {
        "id": "sVdNbLyaiV7c"
      }
    },
    {
      "cell_type": "markdown",
      "source": [
        "# 3 Machine Learning pipeline\n",
        "\n",
        "My machine learning pipeline consists of four stages: Input, Transformation, Modeling and Output.\n",
        "\n",
        "1. Input: The input will be food images for 'rice' and 'chips'.\n",
        "2. Transformation: I will transform these images by extracting different useful features such as colour, shape and texture.\n",
        "3. Modeling: Different machine learning models will be used on these features such as LinearSVC, RandomForestClassifier, and SVM.\n",
        "4. Output: The output of the pipeline is the predicted class ('rice' or 'chips') for each image."
      ],
      "metadata": {
        "id": "QMHFtiQ1k4FC"
      }
    },
    {
      "cell_type": "markdown",
      "source": [
        "# 4 Transformation stage\n",
        "\n",
        "In the transformation stage, I have extracted the yellow components of the images, texture features using GLCM and shape features as feature extraction.\n",
        "1. Yellow components: This function calculates the amount of yellow colour in the image. I choose this feature because 'chips' have more yellow colour than 'rice' due to frying.\n",
        "2. Shape feature: This function calculates the average aspect ratio of objects in the image. 'Rice' and 'chips' have different shapes - rice are more elongated and chips are generally more round or irregular. Therefore, the aspect ratio could help to make image classification.\n",
        "3. Texture features: This function calculates several texture features from the image. The texture of ‘rice’ and ‘chips’ are different - chips have a more rough or irregular texture due to frying and seasoning, while rice has a more smooth and uniform texture. These texture features can therefore help distinguish between ‘rice’ and ‘chips’."
      ],
      "metadata": {
        "id": "Jv4r2DZPoLFW"
      }
    },
    {
      "cell_type": "markdown",
      "source": [
        "# 5 Modelling\n",
        "\n",
        "I have used 3 machine learning models for the project.\n",
        "1. Linear Support Vector Classifier (LinearSVC): This model is a type of Support Vector Machine (SVM) with a linear kernel. It’s chosen because it’s effective in high dimensional spaces and best suited for binary classification problems. The parameter C=10 controls the penalty for misclassification, with a higher value leading to less tolerance for misclassification.\n",
        "2. Random Forest Classifier: This model is an ensemble learning method that operates by constructing multiple decision trees during training and outputting the class that is the mode of the classes of the individual trees. It’s chosen because it’s robust to overfitting, can handle large datasets with high dimensionality, and provides importance scores for features. The parameters n_estimators=5 and max_depth=3 control the number of trees in the forest and the maximum depth of the trees, respectively.\n",
        "3. Support Vector Classifier (SVC) with Radial Basis Function (RBF) Kernel: This model is another type of SVM, but with a non-linear RBF kernel. It’s chosen because it can handle non-linear decision boundaries. The class_weight='balanced' parameter helps to adjust weights inversely proportional to class frequencies in the input data, which is useful for imbalanced datasets."
      ],
      "metadata": {
        "id": "AbD6r8aFuAvd"
      }
    },
    {
      "cell_type": "markdown",
      "source": [
        "# 6 Methodology\n",
        "\n",
        "I trained these 3 models using the training dataset X_train_fn and Y_train. X_train_fn is the feature matrix from training set by extacting different features from each image. Y_train is the target vector for the training set. It contains the labels for each image in your training set.\n",
        "\n",
        "I used accuracy and confusion matrix to evaluate the performance of the models.\n",
        "\n",
        "- Accuracy: I calculated the training and test accuracy by comparing the predicted labels with the actual labels. Accuracy is the proportion of correct predictions over total predictions.\n",
        "- Confusion Matrix: I created a confusion matrix for each model to visualize the performance of the classification model."
      ],
      "metadata": {
        "id": "w5yXW8TQ0WNa"
      }
    },
    {
      "cell_type": "markdown",
      "source": [
        "# 7 Dataset"
      ],
      "metadata": {
        "id": "4JqpIOYp2ey4"
      }
    },
    {
      "cell_type": "code",
      "execution_count": null,
      "metadata": {
        "colab": {
          "base_uri": "https://localhost:8080/"
        },
        "id": "XnbBvUzAnlo5",
        "outputId": "6656e14b-c990-43f6-d0d0-ed7421873501"
      },
      "outputs": [
        {
          "output_type": "stream",
          "name": "stdout",
          "text": [
            "Collecting mlend\n",
            "  Downloading mlend-1.0.0.3-py3-none-any.whl (10 kB)\n",
            "Requirement already satisfied: numpy>1.8 in /usr/local/lib/python3.10/dist-packages (from mlend) (1.23.5)\n",
            "Requirement already satisfied: pandas in /usr/local/lib/python3.10/dist-packages (from mlend) (1.5.3)\n",
            "Requirement already satisfied: scipy in /usr/local/lib/python3.10/dist-packages (from mlend) (1.11.4)\n",
            "Requirement already satisfied: matplotlib in /usr/local/lib/python3.10/dist-packages (from mlend) (3.7.1)\n",
            "Requirement already satisfied: joblib in /usr/local/lib/python3.10/dist-packages (from mlend) (1.3.2)\n",
            "Collecting spkit>0.0.9.5 (from mlend)\n",
            "  Downloading spkit-0.0.9.6.7-py3-none-any.whl (1.6 MB)\n",
            "\u001b[2K     \u001b[90m━━━━━━━━━━━━━━━━━━━━━━━━━━━━━━━━━━━━━━━━\u001b[0m \u001b[32m1.6/1.6 MB\u001b[0m \u001b[31m24.2 MB/s\u001b[0m eta \u001b[36m0:00:00\u001b[0m\n",
            "\u001b[?25hRequirement already satisfied: scikit-learn in /usr/local/lib/python3.10/dist-packages (from spkit>0.0.9.5->mlend) (1.2.2)\n",
            "Collecting python-picard (from spkit>0.0.9.5->mlend)\n",
            "  Downloading python_picard-0.7-py3-none-any.whl (16 kB)\n",
            "Requirement already satisfied: PyWavelets in /usr/local/lib/python3.10/dist-packages (from spkit>0.0.9.5->mlend) (1.5.0)\n",
            "Collecting pylfsr (from spkit>0.0.9.5->mlend)\n",
            "  Downloading pylfsr-1.0.7-py3-none-any.whl (28 kB)\n",
            "Requirement already satisfied: h5py in /usr/local/lib/python3.10/dist-packages (from spkit>0.0.9.5->mlend) (3.9.0)\n",
            "Requirement already satisfied: seaborn in /usr/local/lib/python3.10/dist-packages (from spkit>0.0.9.5->mlend) (0.12.2)\n",
            "Collecting phyaat (from spkit>0.0.9.5->mlend)\n",
            "  Downloading phyaat-0.0.3-py3-none-any.whl (27 kB)\n",
            "Requirement already satisfied: contourpy>=1.0.1 in /usr/local/lib/python3.10/dist-packages (from matplotlib->mlend) (1.2.0)\n",
            "Requirement already satisfied: cycler>=0.10 in /usr/local/lib/python3.10/dist-packages (from matplotlib->mlend) (0.12.1)\n",
            "Requirement already satisfied: fonttools>=4.22.0 in /usr/local/lib/python3.10/dist-packages (from matplotlib->mlend) (4.45.1)\n",
            "Requirement already satisfied: kiwisolver>=1.0.1 in /usr/local/lib/python3.10/dist-packages (from matplotlib->mlend) (1.4.5)\n",
            "Requirement already satisfied: packaging>=20.0 in /usr/local/lib/python3.10/dist-packages (from matplotlib->mlend) (23.2)\n",
            "Requirement already satisfied: pillow>=6.2.0 in /usr/local/lib/python3.10/dist-packages (from matplotlib->mlend) (9.4.0)\n",
            "Requirement already satisfied: pyparsing>=2.3.1 in /usr/local/lib/python3.10/dist-packages (from matplotlib->mlend) (3.1.1)\n",
            "Requirement already satisfied: python-dateutil>=2.7 in /usr/local/lib/python3.10/dist-packages (from matplotlib->mlend) (2.8.2)\n",
            "Requirement already satisfied: pytz>=2020.1 in /usr/local/lib/python3.10/dist-packages (from pandas->mlend) (2023.3.post1)\n",
            "Requirement already satisfied: six>=1.5 in /usr/local/lib/python3.10/dist-packages (from python-dateutil>=2.7->matplotlib->mlend) (1.16.0)\n",
            "Requirement already satisfied: numexpr in /usr/local/lib/python3.10/dist-packages (from python-picard->spkit>0.0.9.5->mlend) (2.8.7)\n",
            "Requirement already satisfied: threadpoolctl>=2.0.0 in /usr/local/lib/python3.10/dist-packages (from scikit-learn->spkit>0.0.9.5->mlend) (3.2.0)\n",
            "Installing collected packages: python-picard, pylfsr, phyaat, spkit, mlend\n",
            "Successfully installed mlend-1.0.0.3 phyaat-0.0.3 pylfsr-1.0.7 python-picard-0.7 spkit-0.0.9.6.7\n"
          ]
        }
      ],
      "source": [
        "!pip install mlend"
      ]
    },
    {
      "cell_type": "code",
      "source": [
        "from google.colab import drive\n",
        "\n",
        "import numpy as np\n",
        "import pandas as pd\n",
        "import matplotlib.pyplot as plt\n",
        "import spkit as sp\n",
        "\n",
        "from skimage import exposure\n",
        "from skimage.color import rgb2hsv, rgb2gray\n",
        "import skimage as ski\n",
        "\n",
        "import mlend\n",
        "from mlend import download_yummy_small, yummy_small_load\n",
        "\n",
        "import os, sys, re, pickle, glob\n",
        "import urllib.request\n",
        "import zipfile\n",
        "\n",
        "import IPython.display as ipd\n",
        "from tqdm import tqdm\n",
        "import librosa\n",
        "\n",
        "drive.mount('/content/drive')"
      ],
      "metadata": {
        "colab": {
          "base_uri": "https://localhost:8080/"
        },
        "id": "7C7OBckKoAQo",
        "outputId": "01e3e39a-b0af-4369-99df-d72fd4106eef"
      },
      "execution_count": null,
      "outputs": [
        {
          "output_type": "stream",
          "name": "stdout",
          "text": [
            "Mounted at /content/drive\n"
          ]
        }
      ]
    },
    {
      "cell_type": "markdown",
      "source": [
        "First, I download all images from github.  "
      ],
      "metadata": {
        "id": "3qyRmbRnWNvB"
      }
    },
    {
      "cell_type": "code",
      "source": [
        "import mlend\n",
        "from mlend import download_yummy, yummy_load\n",
        "\n",
        "subset = {}\n",
        "\n",
        "datadir = download_yummy(save_to = '/content/drive/MyDrive/Data_miniproject/MLEnd', subset = subset,verbose=1,overwrite=False)"
      ],
      "metadata": {
        "colab": {
          "base_uri": "https://localhost:8080/"
        },
        "id": "pzG3RaamtomK",
        "outputId": "56ad2ff9-dbf8-4d0d-d29a-0051a8002e5f"
      },
      "execution_count": null,
      "outputs": [
        {
          "output_type": "stream",
          "name": "stdout",
          "text": [
            "Downloading 3250 image files from https://github.com/MLEndDatasets/Yummy\n",
            "100%|\u001b[0m▓▓▓▓▓▓▓▓▓▓▓▓▓▓▓▓▓▓▓▓▓▓▓▓▓▓▓▓▓▓▓▓▓▓▓▓▓▓▓▓▓▓▓▓▓▓▓▓▓▓\u001b[0m|3250\\3250|003250.jpg\n",
            "Done!\n"
          ]
        }
      ]
    },
    {
      "cell_type": "code",
      "source": [
        "os.listdir(datadir)"
      ],
      "metadata": {
        "colab": {
          "base_uri": "https://localhost:8080/"
        },
        "id": "IKmBydA6yitt",
        "outputId": "a981f878-3aed-4240-c9e7-cfdd98edeb66"
      },
      "execution_count": null,
      "outputs": [
        {
          "output_type": "execute_result",
          "data": {
            "text/plain": [
              "['MLEndYD_images', 'MLEndYD_image_attributes_benchmark.csv']"
            ]
          },
          "metadata": {},
          "execution_count": 4
        }
      ]
    },
    {
      "cell_type": "code",
      "source": [
        "MLENDYD_df = pd.read_csv('/content/drive/MyDrive/Data_miniproject/MLEnd/yummy/MLEndYD_image_attributes_benchmark.csv').set_index('filename')\n",
        "MLENDYD_df"
      ],
      "metadata": {
        "colab": {
          "base_uri": "https://localhost:8080/",
          "height": 475
        },
        "id": "FEHz4mDdpPwl",
        "outputId": "ef545862-72ed-4dec-9b00-cc3c493f73af"
      },
      "execution_count": null,
      "outputs": [
        {
          "output_type": "execute_result",
          "data": {
            "text/plain": [
              "                      Diet Cuisine_org   Cuisine  \\\n",
              "filename                                           \n",
              "000001.jpg  non_vegetarian    japanese  japanese   \n",
              "000002.jpg  non_vegetarian     english   english   \n",
              "000003.jpg  non_vegetarian     chinese   chinese   \n",
              "000004.jpg      vegetarian      indian    indian   \n",
              "000005.jpg  non_vegetarian      indian    indian   \n",
              "...                    ...         ...       ...   \n",
              "003246.jpg      vegetarian      indian    indian   \n",
              "003247.jpg      vegetarian      indian    indian   \n",
              "003248.jpg      vegetarian      indian    indian   \n",
              "003249.jpg           vegan      indian    indian   \n",
              "003250.jpg  non_vegetarian    american  american   \n",
              "\n",
              "                                   Dish_name     Home_or_restaurant  \\\n",
              "filename                                                              \n",
              "000001.jpg                chicken_katsu_rice          marugame_udon   \n",
              "000002.jpg                 english_breakfast                   home   \n",
              "000003.jpg                     spicy_chicken  jinli_flagship_branch   \n",
              "000004.jpg                       gulab_jamun                   home   \n",
              "000005.jpg                    chicken_masala                   home   \n",
              "...                                      ...                    ...   \n",
              "003246.jpg                        zeera_rice                   home   \n",
              "003247.jpg                    paneer_and_dal                   home   \n",
              "003248.jpg                            samosa                   home   \n",
              "003249.jpg                        fruit_milk                   home   \n",
              "003250.jpg  beef_burger_with_onion_and_salad                   home   \n",
              "\n",
              "                                                  Ingredients  \\\n",
              "filename                                                        \n",
              "000001.jpg              rice,chicken_breast,spicy_curry_sauce   \n",
              "000002.jpg  eggs,bacon,hash_brown,tomato,bread,tomato,bake...   \n",
              "000003.jpg  chili,chicken,peanuts,sihuan_peppercorns,green...   \n",
              "000004.jpg      sugar,water,khoya,milk,salt,oil,cardamon,ghee   \n",
              "000005.jpg  chicken,lemon,turmeric,garam_masala,coriander_...   \n",
              "...                                                       ...   \n",
              "003246.jpg  1_cup_basmati_rice,2_cups_water,2_tablespoons_...   \n",
              "003247.jpg  fried_cottage_cheese,ghee,lentils,milk,wheat_f...   \n",
              "003248.jpg  potato,onion,peanut,salt,turmeric_powder,red_c...   \n",
              "003249.jpg                             kiwi,banana,apple,milk   \n",
              "003250.jpg   beef_patty,bread_roll,cherry_tomato,_onion,chive   \n",
              "\n",
              "           Healthiness_rating  Healthiness_rating_int       Likeness  \\\n",
              "filename                                                               \n",
              "000001.jpg            neutral                     3.0           like   \n",
              "000002.jpg          unhealthy                     2.0           like   \n",
              "000003.jpg            neutral                     3.0  strongly_like   \n",
              "000004.jpg          unhealthy                     2.0  strongly_like   \n",
              "000005.jpg            healthy                     4.0  strongly_like   \n",
              "...                       ...                     ...            ...   \n",
              "003246.jpg            healthy                     4.0  strongly_like   \n",
              "003247.jpg            healthy                     4.0  strongly_like   \n",
              "003248.jpg     very_unhealthy                     1.0           like   \n",
              "003249.jpg       very_healthy                     5.0  strongly_like   \n",
              "003250.jpg            neutral                     3.0           like   \n",
              "\n",
              "            Likeness_int Benchmark_A  \n",
              "filename                              \n",
              "000001.jpg           4.0       Train  \n",
              "000002.jpg           4.0       Train  \n",
              "000003.jpg           5.0       Train  \n",
              "000004.jpg           5.0       Train  \n",
              "000005.jpg           5.0       Train  \n",
              "...                  ...         ...  \n",
              "003246.jpg           5.0       Train  \n",
              "003247.jpg           5.0        Test  \n",
              "003248.jpg           4.0        Test  \n",
              "003249.jpg           5.0       Train  \n",
              "003250.jpg           4.0       Train  \n",
              "\n",
              "[3250 rows x 11 columns]"
            ],
            "text/html": [
              "\n",
              "  <div id=\"df-07adf52b-5996-493c-a495-7f1bb574631f\" class=\"colab-df-container\">\n",
              "    <div>\n",
              "<style scoped>\n",
              "    .dataframe tbody tr th:only-of-type {\n",
              "        vertical-align: middle;\n",
              "    }\n",
              "\n",
              "    .dataframe tbody tr th {\n",
              "        vertical-align: top;\n",
              "    }\n",
              "\n",
              "    .dataframe thead th {\n",
              "        text-align: right;\n",
              "    }\n",
              "</style>\n",
              "<table border=\"1\" class=\"dataframe\">\n",
              "  <thead>\n",
              "    <tr style=\"text-align: right;\">\n",
              "      <th></th>\n",
              "      <th>Diet</th>\n",
              "      <th>Cuisine_org</th>\n",
              "      <th>Cuisine</th>\n",
              "      <th>Dish_name</th>\n",
              "      <th>Home_or_restaurant</th>\n",
              "      <th>Ingredients</th>\n",
              "      <th>Healthiness_rating</th>\n",
              "      <th>Healthiness_rating_int</th>\n",
              "      <th>Likeness</th>\n",
              "      <th>Likeness_int</th>\n",
              "      <th>Benchmark_A</th>\n",
              "    </tr>\n",
              "    <tr>\n",
              "      <th>filename</th>\n",
              "      <th></th>\n",
              "      <th></th>\n",
              "      <th></th>\n",
              "      <th></th>\n",
              "      <th></th>\n",
              "      <th></th>\n",
              "      <th></th>\n",
              "      <th></th>\n",
              "      <th></th>\n",
              "      <th></th>\n",
              "      <th></th>\n",
              "    </tr>\n",
              "  </thead>\n",
              "  <tbody>\n",
              "    <tr>\n",
              "      <th>000001.jpg</th>\n",
              "      <td>non_vegetarian</td>\n",
              "      <td>japanese</td>\n",
              "      <td>japanese</td>\n",
              "      <td>chicken_katsu_rice</td>\n",
              "      <td>marugame_udon</td>\n",
              "      <td>rice,chicken_breast,spicy_curry_sauce</td>\n",
              "      <td>neutral</td>\n",
              "      <td>3.0</td>\n",
              "      <td>like</td>\n",
              "      <td>4.0</td>\n",
              "      <td>Train</td>\n",
              "    </tr>\n",
              "    <tr>\n",
              "      <th>000002.jpg</th>\n",
              "      <td>non_vegetarian</td>\n",
              "      <td>english</td>\n",
              "      <td>english</td>\n",
              "      <td>english_breakfast</td>\n",
              "      <td>home</td>\n",
              "      <td>eggs,bacon,hash_brown,tomato,bread,tomato,bake...</td>\n",
              "      <td>unhealthy</td>\n",
              "      <td>2.0</td>\n",
              "      <td>like</td>\n",
              "      <td>4.0</td>\n",
              "      <td>Train</td>\n",
              "    </tr>\n",
              "    <tr>\n",
              "      <th>000003.jpg</th>\n",
              "      <td>non_vegetarian</td>\n",
              "      <td>chinese</td>\n",
              "      <td>chinese</td>\n",
              "      <td>spicy_chicken</td>\n",
              "      <td>jinli_flagship_branch</td>\n",
              "      <td>chili,chicken,peanuts,sihuan_peppercorns,green...</td>\n",
              "      <td>neutral</td>\n",
              "      <td>3.0</td>\n",
              "      <td>strongly_like</td>\n",
              "      <td>5.0</td>\n",
              "      <td>Train</td>\n",
              "    </tr>\n",
              "    <tr>\n",
              "      <th>000004.jpg</th>\n",
              "      <td>vegetarian</td>\n",
              "      <td>indian</td>\n",
              "      <td>indian</td>\n",
              "      <td>gulab_jamun</td>\n",
              "      <td>home</td>\n",
              "      <td>sugar,water,khoya,milk,salt,oil,cardamon,ghee</td>\n",
              "      <td>unhealthy</td>\n",
              "      <td>2.0</td>\n",
              "      <td>strongly_like</td>\n",
              "      <td>5.0</td>\n",
              "      <td>Train</td>\n",
              "    </tr>\n",
              "    <tr>\n",
              "      <th>000005.jpg</th>\n",
              "      <td>non_vegetarian</td>\n",
              "      <td>indian</td>\n",
              "      <td>indian</td>\n",
              "      <td>chicken_masala</td>\n",
              "      <td>home</td>\n",
              "      <td>chicken,lemon,turmeric,garam_masala,coriander_...</td>\n",
              "      <td>healthy</td>\n",
              "      <td>4.0</td>\n",
              "      <td>strongly_like</td>\n",
              "      <td>5.0</td>\n",
              "      <td>Train</td>\n",
              "    </tr>\n",
              "    <tr>\n",
              "      <th>...</th>\n",
              "      <td>...</td>\n",
              "      <td>...</td>\n",
              "      <td>...</td>\n",
              "      <td>...</td>\n",
              "      <td>...</td>\n",
              "      <td>...</td>\n",
              "      <td>...</td>\n",
              "      <td>...</td>\n",
              "      <td>...</td>\n",
              "      <td>...</td>\n",
              "      <td>...</td>\n",
              "    </tr>\n",
              "    <tr>\n",
              "      <th>003246.jpg</th>\n",
              "      <td>vegetarian</td>\n",
              "      <td>indian</td>\n",
              "      <td>indian</td>\n",
              "      <td>zeera_rice</td>\n",
              "      <td>home</td>\n",
              "      <td>1_cup_basmati_rice,2_cups_water,2_tablespoons_...</td>\n",
              "      <td>healthy</td>\n",
              "      <td>4.0</td>\n",
              "      <td>strongly_like</td>\n",
              "      <td>5.0</td>\n",
              "      <td>Train</td>\n",
              "    </tr>\n",
              "    <tr>\n",
              "      <th>003247.jpg</th>\n",
              "      <td>vegetarian</td>\n",
              "      <td>indian</td>\n",
              "      <td>indian</td>\n",
              "      <td>paneer_and_dal</td>\n",
              "      <td>home</td>\n",
              "      <td>fried_cottage_cheese,ghee,lentils,milk,wheat_f...</td>\n",
              "      <td>healthy</td>\n",
              "      <td>4.0</td>\n",
              "      <td>strongly_like</td>\n",
              "      <td>5.0</td>\n",
              "      <td>Test</td>\n",
              "    </tr>\n",
              "    <tr>\n",
              "      <th>003248.jpg</th>\n",
              "      <td>vegetarian</td>\n",
              "      <td>indian</td>\n",
              "      <td>indian</td>\n",
              "      <td>samosa</td>\n",
              "      <td>home</td>\n",
              "      <td>potato,onion,peanut,salt,turmeric_powder,red_c...</td>\n",
              "      <td>very_unhealthy</td>\n",
              "      <td>1.0</td>\n",
              "      <td>like</td>\n",
              "      <td>4.0</td>\n",
              "      <td>Test</td>\n",
              "    </tr>\n",
              "    <tr>\n",
              "      <th>003249.jpg</th>\n",
              "      <td>vegan</td>\n",
              "      <td>indian</td>\n",
              "      <td>indian</td>\n",
              "      <td>fruit_milk</td>\n",
              "      <td>home</td>\n",
              "      <td>kiwi,banana,apple,milk</td>\n",
              "      <td>very_healthy</td>\n",
              "      <td>5.0</td>\n",
              "      <td>strongly_like</td>\n",
              "      <td>5.0</td>\n",
              "      <td>Train</td>\n",
              "    </tr>\n",
              "    <tr>\n",
              "      <th>003250.jpg</th>\n",
              "      <td>non_vegetarian</td>\n",
              "      <td>american</td>\n",
              "      <td>american</td>\n",
              "      <td>beef_burger_with_onion_and_salad</td>\n",
              "      <td>home</td>\n",
              "      <td>beef_patty,bread_roll,cherry_tomato,_onion,chive</td>\n",
              "      <td>neutral</td>\n",
              "      <td>3.0</td>\n",
              "      <td>like</td>\n",
              "      <td>4.0</td>\n",
              "      <td>Train</td>\n",
              "    </tr>\n",
              "  </tbody>\n",
              "</table>\n",
              "<p>3250 rows × 11 columns</p>\n",
              "</div>\n",
              "    <div class=\"colab-df-buttons\">\n",
              "\n",
              "  <div class=\"colab-df-container\">\n",
              "    <button class=\"colab-df-convert\" onclick=\"convertToInteractive('df-07adf52b-5996-493c-a495-7f1bb574631f')\"\n",
              "            title=\"Convert this dataframe to an interactive table.\"\n",
              "            style=\"display:none;\">\n",
              "\n",
              "  <svg xmlns=\"http://www.w3.org/2000/svg\" height=\"24px\" viewBox=\"0 -960 960 960\">\n",
              "    <path d=\"M120-120v-720h720v720H120Zm60-500h600v-160H180v160Zm220 220h160v-160H400v160Zm0 220h160v-160H400v160ZM180-400h160v-160H180v160Zm440 0h160v-160H620v160ZM180-180h160v-160H180v160Zm440 0h160v-160H620v160Z\"/>\n",
              "  </svg>\n",
              "    </button>\n",
              "\n",
              "  <style>\n",
              "    .colab-df-container {\n",
              "      display:flex;\n",
              "      gap: 12px;\n",
              "    }\n",
              "\n",
              "    .colab-df-convert {\n",
              "      background-color: #E8F0FE;\n",
              "      border: none;\n",
              "      border-radius: 50%;\n",
              "      cursor: pointer;\n",
              "      display: none;\n",
              "      fill: #1967D2;\n",
              "      height: 32px;\n",
              "      padding: 0 0 0 0;\n",
              "      width: 32px;\n",
              "    }\n",
              "\n",
              "    .colab-df-convert:hover {\n",
              "      background-color: #E2EBFA;\n",
              "      box-shadow: 0px 1px 2px rgba(60, 64, 67, 0.3), 0px 1px 3px 1px rgba(60, 64, 67, 0.15);\n",
              "      fill: #174EA6;\n",
              "    }\n",
              "\n",
              "    .colab-df-buttons div {\n",
              "      margin-bottom: 4px;\n",
              "    }\n",
              "\n",
              "    [theme=dark] .colab-df-convert {\n",
              "      background-color: #3B4455;\n",
              "      fill: #D2E3FC;\n",
              "    }\n",
              "\n",
              "    [theme=dark] .colab-df-convert:hover {\n",
              "      background-color: #434B5C;\n",
              "      box-shadow: 0px 1px 3px 1px rgba(0, 0, 0, 0.15);\n",
              "      filter: drop-shadow(0px 1px 2px rgba(0, 0, 0, 0.3));\n",
              "      fill: #FFFFFF;\n",
              "    }\n",
              "  </style>\n",
              "\n",
              "    <script>\n",
              "      const buttonEl =\n",
              "        document.querySelector('#df-07adf52b-5996-493c-a495-7f1bb574631f button.colab-df-convert');\n",
              "      buttonEl.style.display =\n",
              "        google.colab.kernel.accessAllowed ? 'block' : 'none';\n",
              "\n",
              "      async function convertToInteractive(key) {\n",
              "        const element = document.querySelector('#df-07adf52b-5996-493c-a495-7f1bb574631f');\n",
              "        const dataTable =\n",
              "          await google.colab.kernel.invokeFunction('convertToInteractive',\n",
              "                                                    [key], {});\n",
              "        if (!dataTable) return;\n",
              "\n",
              "        const docLinkHtml = 'Like what you see? Visit the ' +\n",
              "          '<a target=\"_blank\" href=https://colab.research.google.com/notebooks/data_table.ipynb>data table notebook</a>'\n",
              "          + ' to learn more about interactive tables.';\n",
              "        element.innerHTML = '';\n",
              "        dataTable['output_type'] = 'display_data';\n",
              "        await google.colab.output.renderOutput(dataTable, element);\n",
              "        const docLink = document.createElement('div');\n",
              "        docLink.innerHTML = docLinkHtml;\n",
              "        element.appendChild(docLink);\n",
              "      }\n",
              "    </script>\n",
              "  </div>\n",
              "\n",
              "\n",
              "<div id=\"df-db0f5e0c-ce1c-475a-a643-2026c161c348\">\n",
              "  <button class=\"colab-df-quickchart\" onclick=\"quickchart('df-db0f5e0c-ce1c-475a-a643-2026c161c348')\"\n",
              "            title=\"Suggest charts\"\n",
              "            style=\"display:none;\">\n",
              "\n",
              "<svg xmlns=\"http://www.w3.org/2000/svg\" height=\"24px\"viewBox=\"0 0 24 24\"\n",
              "     width=\"24px\">\n",
              "    <g>\n",
              "        <path d=\"M19 3H5c-1.1 0-2 .9-2 2v14c0 1.1.9 2 2 2h14c1.1 0 2-.9 2-2V5c0-1.1-.9-2-2-2zM9 17H7v-7h2v7zm4 0h-2V7h2v10zm4 0h-2v-4h2v4z\"/>\n",
              "    </g>\n",
              "</svg>\n",
              "  </button>\n",
              "\n",
              "<style>\n",
              "  .colab-df-quickchart {\n",
              "      --bg-color: #E8F0FE;\n",
              "      --fill-color: #1967D2;\n",
              "      --hover-bg-color: #E2EBFA;\n",
              "      --hover-fill-color: #174EA6;\n",
              "      --disabled-fill-color: #AAA;\n",
              "      --disabled-bg-color: #DDD;\n",
              "  }\n",
              "\n",
              "  [theme=dark] .colab-df-quickchart {\n",
              "      --bg-color: #3B4455;\n",
              "      --fill-color: #D2E3FC;\n",
              "      --hover-bg-color: #434B5C;\n",
              "      --hover-fill-color: #FFFFFF;\n",
              "      --disabled-bg-color: #3B4455;\n",
              "      --disabled-fill-color: #666;\n",
              "  }\n",
              "\n",
              "  .colab-df-quickchart {\n",
              "    background-color: var(--bg-color);\n",
              "    border: none;\n",
              "    border-radius: 50%;\n",
              "    cursor: pointer;\n",
              "    display: none;\n",
              "    fill: var(--fill-color);\n",
              "    height: 32px;\n",
              "    padding: 0;\n",
              "    width: 32px;\n",
              "  }\n",
              "\n",
              "  .colab-df-quickchart:hover {\n",
              "    background-color: var(--hover-bg-color);\n",
              "    box-shadow: 0 1px 2px rgba(60, 64, 67, 0.3), 0 1px 3px 1px rgba(60, 64, 67, 0.15);\n",
              "    fill: var(--button-hover-fill-color);\n",
              "  }\n",
              "\n",
              "  .colab-df-quickchart-complete:disabled,\n",
              "  .colab-df-quickchart-complete:disabled:hover {\n",
              "    background-color: var(--disabled-bg-color);\n",
              "    fill: var(--disabled-fill-color);\n",
              "    box-shadow: none;\n",
              "  }\n",
              "\n",
              "  .colab-df-spinner {\n",
              "    border: 2px solid var(--fill-color);\n",
              "    border-color: transparent;\n",
              "    border-bottom-color: var(--fill-color);\n",
              "    animation:\n",
              "      spin 1s steps(1) infinite;\n",
              "  }\n",
              "\n",
              "  @keyframes spin {\n",
              "    0% {\n",
              "      border-color: transparent;\n",
              "      border-bottom-color: var(--fill-color);\n",
              "      border-left-color: var(--fill-color);\n",
              "    }\n",
              "    20% {\n",
              "      border-color: transparent;\n",
              "      border-left-color: var(--fill-color);\n",
              "      border-top-color: var(--fill-color);\n",
              "    }\n",
              "    30% {\n",
              "      border-color: transparent;\n",
              "      border-left-color: var(--fill-color);\n",
              "      border-top-color: var(--fill-color);\n",
              "      border-right-color: var(--fill-color);\n",
              "    }\n",
              "    40% {\n",
              "      border-color: transparent;\n",
              "      border-right-color: var(--fill-color);\n",
              "      border-top-color: var(--fill-color);\n",
              "    }\n",
              "    60% {\n",
              "      border-color: transparent;\n",
              "      border-right-color: var(--fill-color);\n",
              "    }\n",
              "    80% {\n",
              "      border-color: transparent;\n",
              "      border-right-color: var(--fill-color);\n",
              "      border-bottom-color: var(--fill-color);\n",
              "    }\n",
              "    90% {\n",
              "      border-color: transparent;\n",
              "      border-bottom-color: var(--fill-color);\n",
              "    }\n",
              "  }\n",
              "</style>\n",
              "\n",
              "  <script>\n",
              "    async function quickchart(key) {\n",
              "      const quickchartButtonEl =\n",
              "        document.querySelector('#' + key + ' button');\n",
              "      quickchartButtonEl.disabled = true;  // To prevent multiple clicks.\n",
              "      quickchartButtonEl.classList.add('colab-df-spinner');\n",
              "      try {\n",
              "        const charts = await google.colab.kernel.invokeFunction(\n",
              "            'suggestCharts', [key], {});\n",
              "      } catch (error) {\n",
              "        console.error('Error during call to suggestCharts:', error);\n",
              "      }\n",
              "      quickchartButtonEl.classList.remove('colab-df-spinner');\n",
              "      quickchartButtonEl.classList.add('colab-df-quickchart-complete');\n",
              "    }\n",
              "    (() => {\n",
              "      let quickchartButtonEl =\n",
              "        document.querySelector('#df-db0f5e0c-ce1c-475a-a643-2026c161c348 button');\n",
              "      quickchartButtonEl.style.display =\n",
              "        google.colab.kernel.accessAllowed ? 'block' : 'none';\n",
              "    })();\n",
              "  </script>\n",
              "</div>\n",
              "    </div>\n",
              "  </div>\n"
            ]
          },
          "metadata": {},
          "execution_count": 5
        }
      ]
    },
    {
      "cell_type": "code",
      "source": [
        "sample_path = '/content/drive/MyDrive/Data_miniproject/MLEnd/yummy/MLEndYD_images/*.jpg'\n",
        "files = glob.glob(sample_path)\n",
        "len(files)"
      ],
      "metadata": {
        "colab": {
          "base_uri": "https://localhost:8080/"
        },
        "id": "Wt35JIpUPdjR",
        "outputId": "2424d3bc-3921-4f4d-e7a5-4a039661e60b"
      },
      "execution_count": null,
      "outputs": [
        {
          "output_type": "execute_result",
          "data": {
            "text/plain": [
              "3250"
            ]
          },
          "metadata": {},
          "execution_count": 6
        }
      ]
    },
    {
      "cell_type": "markdown",
      "source": [
        "There are total 3250 images."
      ],
      "metadata": {
        "id": "gC_lXgdbWhX1"
      }
    },
    {
      "cell_type": "markdown",
      "source": [
        "As we are interested in the images of dish that has either rice or chips, I will set the conditions below:\n"
      ],
      "metadata": {
        "id": "-lkCWFfOWp1B"
      }
    },
    {
      "cell_type": "code",
      "source": [
        "def check_ingredients(row):\n",
        "\n",
        "  if 'rice' in row['Ingredients'] and 'chips' in row['Ingredients']:\n",
        "    return 'delete'\n",
        "  elif 'rice' in row['Dish_name'] and 'chips' in row['Dish_name']:\n",
        "    return 'delete'\n",
        "  elif 'rice' in row['Ingredients'] and 'chips' in row['Dish_name']:\n",
        "    return 'delete'\n",
        "  elif 'chips' in row['Ingredients'] and 'rice' in row['Dish_name']:\n",
        "    return 'delete'\n",
        "  elif 'rice' in row['Ingredients'] and 'rice' in row['Dish_name']:\n",
        "    return 'rice'\n",
        "  elif 'chips' in row['Ingredients'] and 'chips' in row['Dish_name']:\n",
        "    return 'chips'\n",
        "  elif 'rice' in row['Ingredients'] or 'rice' in row['Dish_name']:\n",
        "    return 'rice'\n",
        "  elif 'chips' in row['Ingredients'] or 'chips' in row['Dish_name']:\n",
        "    return 'chips'\n",
        "  else:\n",
        "    return None\n",
        "\n",
        "\n",
        "MLENDYD_df['rice_chips'] = MLENDYD_df.apply(check_ingredients, axis=1)\n",
        "MLENDYD_df = MLENDYD_df[MLENDYD_df['rice_chips'] != 'delete']\n",
        "MLENDYD_df = MLENDYD_df.dropna(subset=['rice_chips'])\n"
      ],
      "metadata": {
        "id": "trTHI7_AM3Fe"
      },
      "execution_count": null,
      "outputs": []
    },
    {
      "cell_type": "code",
      "source": [
        "MLENDYD_df"
      ],
      "metadata": {
        "colab": {
          "base_uri": "https://localhost:8080/",
          "height": 492
        },
        "id": "fpu-opbgM5Yk",
        "outputId": "64a43f5f-c4ce-474a-9501-f9dc980a492d"
      },
      "execution_count": null,
      "outputs": [
        {
          "output_type": "execute_result",
          "data": {
            "text/plain": [
              "                      Diet Cuisine_org      Cuisine  \\\n",
              "filename                                              \n",
              "000001.jpg  non_vegetarian    japanese     japanese   \n",
              "000016.jpg           vegan      indian       indian   \n",
              "000020.jpg      vegetarian      indian       indian   \n",
              "000021.jpg  non_vegetarian       asian        asian   \n",
              "000022.jpg      vegetarian      indian       indian   \n",
              "...                    ...         ...          ...   \n",
              "003234.jpg      vegetarian      indian       indian   \n",
              "003235.jpg  non_vegetarian   singapore  singaporean   \n",
              "003243.jpg      vegetarian     british      british   \n",
              "003244.jpg      vegetarian     italian      italian   \n",
              "003246.jpg      vegetarian      indian       indian   \n",
              "\n",
              "                                         Dish_name Home_or_restaurant  \\\n",
              "filename                                                                \n",
              "000001.jpg                      chicken_katsu_rice      marugame_udon   \n",
              "000016.jpg                                 khichdi               home   \n",
              "000020.jpg  lentil-based_vegetable_stew_with__rice               home   \n",
              "000021.jpg                                 biryani               home   \n",
              "000022.jpg                     rice_beetroot_curry               home   \n",
              "...                                            ...                ...   \n",
              "003234.jpg                              rasam_rice               home   \n",
              "003235.jpg                 singapore_style_noodles               asda   \n",
              "003243.jpg                pan-fried_beef_with_rice         restaurant   \n",
              "003244.jpg                                 khichdi               home   \n",
              "003246.jpg                              zeera_rice               home   \n",
              "\n",
              "                                                  Ingredients  \\\n",
              "filename                                                        \n",
              "000001.jpg              rice,chicken_breast,spicy_curry_sauce   \n",
              "000016.jpg                                  rice,spices,herbs   \n",
              "000020.jpg  ingredients:\\nfor_cooking_rice:\\n1_cup_rice_(a...   \n",
              "000021.jpg  mutton,rice,onion,tomato,red_chilli_powder,sal...   \n",
              "000022.jpg                          rice,beetroot,salt,spices   \n",
              "...                                                       ...   \n",
              "003234.jpg  garlic,curry_leaves,green_chilli,cumin,black_p...   \n",
              "003235.jpg  cooked_rice_noodles,roasted_chicken,water,red_...   \n",
              "003243.jpg                         rice,corn,beef,red_cabbage   \n",
              "003244.jpg  rice,split_yellow_mung_beans,salt,cumin_seeds,...   \n",
              "003246.jpg  1_cup_basmati_rice,2_cups_water,2_tablespoons_...   \n",
              "\n",
              "           Healthiness_rating  Healthiness_rating_int       Likeness  \\\n",
              "filename                                                               \n",
              "000001.jpg            neutral                     3.0           like   \n",
              "000016.jpg            healthy                     4.0        neutral   \n",
              "000020.jpg            healthy                     4.0           like   \n",
              "000021.jpg            healthy                     4.0  strongly_like   \n",
              "000022.jpg       very_healthy                     5.0        neutral   \n",
              "...                       ...                     ...            ...   \n",
              "003234.jpg       very_healthy                     5.0  strongly_like   \n",
              "003235.jpg       very_healthy                     5.0           like   \n",
              "003243.jpg            healthy                     4.0        dislike   \n",
              "003244.jpg            healthy                     4.0        neutral   \n",
              "003246.jpg            healthy                     4.0  strongly_like   \n",
              "\n",
              "            Likeness_int Benchmark_A rice_chips  \n",
              "filename                                         \n",
              "000001.jpg           4.0       Train       rice  \n",
              "000016.jpg           3.0        Test       rice  \n",
              "000020.jpg           4.0        Test       rice  \n",
              "000021.jpg           5.0       Train       rice  \n",
              "000022.jpg           3.0       Train       rice  \n",
              "...                  ...         ...        ...  \n",
              "003234.jpg           5.0        Test       rice  \n",
              "003235.jpg           4.0        Test       rice  \n",
              "003243.jpg           2.0       Train       rice  \n",
              "003244.jpg           3.0       Train       rice  \n",
              "003246.jpg           5.0       Train       rice  \n",
              "\n",
              "[871 rows x 12 columns]"
            ],
            "text/html": [
              "\n",
              "  <div id=\"df-3353ba7c-9a64-4c03-892e-cf18e4aa5dc4\" class=\"colab-df-container\">\n",
              "    <div>\n",
              "<style scoped>\n",
              "    .dataframe tbody tr th:only-of-type {\n",
              "        vertical-align: middle;\n",
              "    }\n",
              "\n",
              "    .dataframe tbody tr th {\n",
              "        vertical-align: top;\n",
              "    }\n",
              "\n",
              "    .dataframe thead th {\n",
              "        text-align: right;\n",
              "    }\n",
              "</style>\n",
              "<table border=\"1\" class=\"dataframe\">\n",
              "  <thead>\n",
              "    <tr style=\"text-align: right;\">\n",
              "      <th></th>\n",
              "      <th>Diet</th>\n",
              "      <th>Cuisine_org</th>\n",
              "      <th>Cuisine</th>\n",
              "      <th>Dish_name</th>\n",
              "      <th>Home_or_restaurant</th>\n",
              "      <th>Ingredients</th>\n",
              "      <th>Healthiness_rating</th>\n",
              "      <th>Healthiness_rating_int</th>\n",
              "      <th>Likeness</th>\n",
              "      <th>Likeness_int</th>\n",
              "      <th>Benchmark_A</th>\n",
              "      <th>rice_chips</th>\n",
              "    </tr>\n",
              "    <tr>\n",
              "      <th>filename</th>\n",
              "      <th></th>\n",
              "      <th></th>\n",
              "      <th></th>\n",
              "      <th></th>\n",
              "      <th></th>\n",
              "      <th></th>\n",
              "      <th></th>\n",
              "      <th></th>\n",
              "      <th></th>\n",
              "      <th></th>\n",
              "      <th></th>\n",
              "      <th></th>\n",
              "    </tr>\n",
              "  </thead>\n",
              "  <tbody>\n",
              "    <tr>\n",
              "      <th>000001.jpg</th>\n",
              "      <td>non_vegetarian</td>\n",
              "      <td>japanese</td>\n",
              "      <td>japanese</td>\n",
              "      <td>chicken_katsu_rice</td>\n",
              "      <td>marugame_udon</td>\n",
              "      <td>rice,chicken_breast,spicy_curry_sauce</td>\n",
              "      <td>neutral</td>\n",
              "      <td>3.0</td>\n",
              "      <td>like</td>\n",
              "      <td>4.0</td>\n",
              "      <td>Train</td>\n",
              "      <td>rice</td>\n",
              "    </tr>\n",
              "    <tr>\n",
              "      <th>000016.jpg</th>\n",
              "      <td>vegan</td>\n",
              "      <td>indian</td>\n",
              "      <td>indian</td>\n",
              "      <td>khichdi</td>\n",
              "      <td>home</td>\n",
              "      <td>rice,spices,herbs</td>\n",
              "      <td>healthy</td>\n",
              "      <td>4.0</td>\n",
              "      <td>neutral</td>\n",
              "      <td>3.0</td>\n",
              "      <td>Test</td>\n",
              "      <td>rice</td>\n",
              "    </tr>\n",
              "    <tr>\n",
              "      <th>000020.jpg</th>\n",
              "      <td>vegetarian</td>\n",
              "      <td>indian</td>\n",
              "      <td>indian</td>\n",
              "      <td>lentil-based_vegetable_stew_with__rice</td>\n",
              "      <td>home</td>\n",
              "      <td>ingredients:\\nfor_cooking_rice:\\n1_cup_rice_(a...</td>\n",
              "      <td>healthy</td>\n",
              "      <td>4.0</td>\n",
              "      <td>like</td>\n",
              "      <td>4.0</td>\n",
              "      <td>Test</td>\n",
              "      <td>rice</td>\n",
              "    </tr>\n",
              "    <tr>\n",
              "      <th>000021.jpg</th>\n",
              "      <td>non_vegetarian</td>\n",
              "      <td>asian</td>\n",
              "      <td>asian</td>\n",
              "      <td>biryani</td>\n",
              "      <td>home</td>\n",
              "      <td>mutton,rice,onion,tomato,red_chilli_powder,sal...</td>\n",
              "      <td>healthy</td>\n",
              "      <td>4.0</td>\n",
              "      <td>strongly_like</td>\n",
              "      <td>5.0</td>\n",
              "      <td>Train</td>\n",
              "      <td>rice</td>\n",
              "    </tr>\n",
              "    <tr>\n",
              "      <th>000022.jpg</th>\n",
              "      <td>vegetarian</td>\n",
              "      <td>indian</td>\n",
              "      <td>indian</td>\n",
              "      <td>rice_beetroot_curry</td>\n",
              "      <td>home</td>\n",
              "      <td>rice,beetroot,salt,spices</td>\n",
              "      <td>very_healthy</td>\n",
              "      <td>5.0</td>\n",
              "      <td>neutral</td>\n",
              "      <td>3.0</td>\n",
              "      <td>Train</td>\n",
              "      <td>rice</td>\n",
              "    </tr>\n",
              "    <tr>\n",
              "      <th>...</th>\n",
              "      <td>...</td>\n",
              "      <td>...</td>\n",
              "      <td>...</td>\n",
              "      <td>...</td>\n",
              "      <td>...</td>\n",
              "      <td>...</td>\n",
              "      <td>...</td>\n",
              "      <td>...</td>\n",
              "      <td>...</td>\n",
              "      <td>...</td>\n",
              "      <td>...</td>\n",
              "      <td>...</td>\n",
              "    </tr>\n",
              "    <tr>\n",
              "      <th>003234.jpg</th>\n",
              "      <td>vegetarian</td>\n",
              "      <td>indian</td>\n",
              "      <td>indian</td>\n",
              "      <td>rasam_rice</td>\n",
              "      <td>home</td>\n",
              "      <td>garlic,curry_leaves,green_chilli,cumin,black_p...</td>\n",
              "      <td>very_healthy</td>\n",
              "      <td>5.0</td>\n",
              "      <td>strongly_like</td>\n",
              "      <td>5.0</td>\n",
              "      <td>Test</td>\n",
              "      <td>rice</td>\n",
              "    </tr>\n",
              "    <tr>\n",
              "      <th>003235.jpg</th>\n",
              "      <td>non_vegetarian</td>\n",
              "      <td>singapore</td>\n",
              "      <td>singaporean</td>\n",
              "      <td>singapore_style_noodles</td>\n",
              "      <td>asda</td>\n",
              "      <td>cooked_rice_noodles,roasted_chicken,water,red_...</td>\n",
              "      <td>very_healthy</td>\n",
              "      <td>5.0</td>\n",
              "      <td>like</td>\n",
              "      <td>4.0</td>\n",
              "      <td>Test</td>\n",
              "      <td>rice</td>\n",
              "    </tr>\n",
              "    <tr>\n",
              "      <th>003243.jpg</th>\n",
              "      <td>vegetarian</td>\n",
              "      <td>british</td>\n",
              "      <td>british</td>\n",
              "      <td>pan-fried_beef_with_rice</td>\n",
              "      <td>restaurant</td>\n",
              "      <td>rice,corn,beef,red_cabbage</td>\n",
              "      <td>healthy</td>\n",
              "      <td>4.0</td>\n",
              "      <td>dislike</td>\n",
              "      <td>2.0</td>\n",
              "      <td>Train</td>\n",
              "      <td>rice</td>\n",
              "    </tr>\n",
              "    <tr>\n",
              "      <th>003244.jpg</th>\n",
              "      <td>vegetarian</td>\n",
              "      <td>italian</td>\n",
              "      <td>italian</td>\n",
              "      <td>khichdi</td>\n",
              "      <td>home</td>\n",
              "      <td>rice,split_yellow_mung_beans,salt,cumin_seeds,...</td>\n",
              "      <td>healthy</td>\n",
              "      <td>4.0</td>\n",
              "      <td>neutral</td>\n",
              "      <td>3.0</td>\n",
              "      <td>Train</td>\n",
              "      <td>rice</td>\n",
              "    </tr>\n",
              "    <tr>\n",
              "      <th>003246.jpg</th>\n",
              "      <td>vegetarian</td>\n",
              "      <td>indian</td>\n",
              "      <td>indian</td>\n",
              "      <td>zeera_rice</td>\n",
              "      <td>home</td>\n",
              "      <td>1_cup_basmati_rice,2_cups_water,2_tablespoons_...</td>\n",
              "      <td>healthy</td>\n",
              "      <td>4.0</td>\n",
              "      <td>strongly_like</td>\n",
              "      <td>5.0</td>\n",
              "      <td>Train</td>\n",
              "      <td>rice</td>\n",
              "    </tr>\n",
              "  </tbody>\n",
              "</table>\n",
              "<p>871 rows × 12 columns</p>\n",
              "</div>\n",
              "    <div class=\"colab-df-buttons\">\n",
              "\n",
              "  <div class=\"colab-df-container\">\n",
              "    <button class=\"colab-df-convert\" onclick=\"convertToInteractive('df-3353ba7c-9a64-4c03-892e-cf18e4aa5dc4')\"\n",
              "            title=\"Convert this dataframe to an interactive table.\"\n",
              "            style=\"display:none;\">\n",
              "\n",
              "  <svg xmlns=\"http://www.w3.org/2000/svg\" height=\"24px\" viewBox=\"0 -960 960 960\">\n",
              "    <path d=\"M120-120v-720h720v720H120Zm60-500h600v-160H180v160Zm220 220h160v-160H400v160Zm0 220h160v-160H400v160ZM180-400h160v-160H180v160Zm440 0h160v-160H620v160ZM180-180h160v-160H180v160Zm440 0h160v-160H620v160Z\"/>\n",
              "  </svg>\n",
              "    </button>\n",
              "\n",
              "  <style>\n",
              "    .colab-df-container {\n",
              "      display:flex;\n",
              "      gap: 12px;\n",
              "    }\n",
              "\n",
              "    .colab-df-convert {\n",
              "      background-color: #E8F0FE;\n",
              "      border: none;\n",
              "      border-radius: 50%;\n",
              "      cursor: pointer;\n",
              "      display: none;\n",
              "      fill: #1967D2;\n",
              "      height: 32px;\n",
              "      padding: 0 0 0 0;\n",
              "      width: 32px;\n",
              "    }\n",
              "\n",
              "    .colab-df-convert:hover {\n",
              "      background-color: #E2EBFA;\n",
              "      box-shadow: 0px 1px 2px rgba(60, 64, 67, 0.3), 0px 1px 3px 1px rgba(60, 64, 67, 0.15);\n",
              "      fill: #174EA6;\n",
              "    }\n",
              "\n",
              "    .colab-df-buttons div {\n",
              "      margin-bottom: 4px;\n",
              "    }\n",
              "\n",
              "    [theme=dark] .colab-df-convert {\n",
              "      background-color: #3B4455;\n",
              "      fill: #D2E3FC;\n",
              "    }\n",
              "\n",
              "    [theme=dark] .colab-df-convert:hover {\n",
              "      background-color: #434B5C;\n",
              "      box-shadow: 0px 1px 3px 1px rgba(0, 0, 0, 0.15);\n",
              "      filter: drop-shadow(0px 1px 2px rgba(0, 0, 0, 0.3));\n",
              "      fill: #FFFFFF;\n",
              "    }\n",
              "  </style>\n",
              "\n",
              "    <script>\n",
              "      const buttonEl =\n",
              "        document.querySelector('#df-3353ba7c-9a64-4c03-892e-cf18e4aa5dc4 button.colab-df-convert');\n",
              "      buttonEl.style.display =\n",
              "        google.colab.kernel.accessAllowed ? 'block' : 'none';\n",
              "\n",
              "      async function convertToInteractive(key) {\n",
              "        const element = document.querySelector('#df-3353ba7c-9a64-4c03-892e-cf18e4aa5dc4');\n",
              "        const dataTable =\n",
              "          await google.colab.kernel.invokeFunction('convertToInteractive',\n",
              "                                                    [key], {});\n",
              "        if (!dataTable) return;\n",
              "\n",
              "        const docLinkHtml = 'Like what you see? Visit the ' +\n",
              "          '<a target=\"_blank\" href=https://colab.research.google.com/notebooks/data_table.ipynb>data table notebook</a>'\n",
              "          + ' to learn more about interactive tables.';\n",
              "        element.innerHTML = '';\n",
              "        dataTable['output_type'] = 'display_data';\n",
              "        await google.colab.output.renderOutput(dataTable, element);\n",
              "        const docLink = document.createElement('div');\n",
              "        docLink.innerHTML = docLinkHtml;\n",
              "        element.appendChild(docLink);\n",
              "      }\n",
              "    </script>\n",
              "  </div>\n",
              "\n",
              "\n",
              "<div id=\"df-b2bfa6a5-c46d-4927-940e-44a6672e2d45\">\n",
              "  <button class=\"colab-df-quickchart\" onclick=\"quickchart('df-b2bfa6a5-c46d-4927-940e-44a6672e2d45')\"\n",
              "            title=\"Suggest charts\"\n",
              "            style=\"display:none;\">\n",
              "\n",
              "<svg xmlns=\"http://www.w3.org/2000/svg\" height=\"24px\"viewBox=\"0 0 24 24\"\n",
              "     width=\"24px\">\n",
              "    <g>\n",
              "        <path d=\"M19 3H5c-1.1 0-2 .9-2 2v14c0 1.1.9 2 2 2h14c1.1 0 2-.9 2-2V5c0-1.1-.9-2-2-2zM9 17H7v-7h2v7zm4 0h-2V7h2v10zm4 0h-2v-4h2v4z\"/>\n",
              "    </g>\n",
              "</svg>\n",
              "  </button>\n",
              "\n",
              "<style>\n",
              "  .colab-df-quickchart {\n",
              "      --bg-color: #E8F0FE;\n",
              "      --fill-color: #1967D2;\n",
              "      --hover-bg-color: #E2EBFA;\n",
              "      --hover-fill-color: #174EA6;\n",
              "      --disabled-fill-color: #AAA;\n",
              "      --disabled-bg-color: #DDD;\n",
              "  }\n",
              "\n",
              "  [theme=dark] .colab-df-quickchart {\n",
              "      --bg-color: #3B4455;\n",
              "      --fill-color: #D2E3FC;\n",
              "      --hover-bg-color: #434B5C;\n",
              "      --hover-fill-color: #FFFFFF;\n",
              "      --disabled-bg-color: #3B4455;\n",
              "      --disabled-fill-color: #666;\n",
              "  }\n",
              "\n",
              "  .colab-df-quickchart {\n",
              "    background-color: var(--bg-color);\n",
              "    border: none;\n",
              "    border-radius: 50%;\n",
              "    cursor: pointer;\n",
              "    display: none;\n",
              "    fill: var(--fill-color);\n",
              "    height: 32px;\n",
              "    padding: 0;\n",
              "    width: 32px;\n",
              "  }\n",
              "\n",
              "  .colab-df-quickchart:hover {\n",
              "    background-color: var(--hover-bg-color);\n",
              "    box-shadow: 0 1px 2px rgba(60, 64, 67, 0.3), 0 1px 3px 1px rgba(60, 64, 67, 0.15);\n",
              "    fill: var(--button-hover-fill-color);\n",
              "  }\n",
              "\n",
              "  .colab-df-quickchart-complete:disabled,\n",
              "  .colab-df-quickchart-complete:disabled:hover {\n",
              "    background-color: var(--disabled-bg-color);\n",
              "    fill: var(--disabled-fill-color);\n",
              "    box-shadow: none;\n",
              "  }\n",
              "\n",
              "  .colab-df-spinner {\n",
              "    border: 2px solid var(--fill-color);\n",
              "    border-color: transparent;\n",
              "    border-bottom-color: var(--fill-color);\n",
              "    animation:\n",
              "      spin 1s steps(1) infinite;\n",
              "  }\n",
              "\n",
              "  @keyframes spin {\n",
              "    0% {\n",
              "      border-color: transparent;\n",
              "      border-bottom-color: var(--fill-color);\n",
              "      border-left-color: var(--fill-color);\n",
              "    }\n",
              "    20% {\n",
              "      border-color: transparent;\n",
              "      border-left-color: var(--fill-color);\n",
              "      border-top-color: var(--fill-color);\n",
              "    }\n",
              "    30% {\n",
              "      border-color: transparent;\n",
              "      border-left-color: var(--fill-color);\n",
              "      border-top-color: var(--fill-color);\n",
              "      border-right-color: var(--fill-color);\n",
              "    }\n",
              "    40% {\n",
              "      border-color: transparent;\n",
              "      border-right-color: var(--fill-color);\n",
              "      border-top-color: var(--fill-color);\n",
              "    }\n",
              "    60% {\n",
              "      border-color: transparent;\n",
              "      border-right-color: var(--fill-color);\n",
              "    }\n",
              "    80% {\n",
              "      border-color: transparent;\n",
              "      border-right-color: var(--fill-color);\n",
              "      border-bottom-color: var(--fill-color);\n",
              "    }\n",
              "    90% {\n",
              "      border-color: transparent;\n",
              "      border-bottom-color: var(--fill-color);\n",
              "    }\n",
              "  }\n",
              "</style>\n",
              "\n",
              "  <script>\n",
              "    async function quickchart(key) {\n",
              "      const quickchartButtonEl =\n",
              "        document.querySelector('#' + key + ' button');\n",
              "      quickchartButtonEl.disabled = true;  // To prevent multiple clicks.\n",
              "      quickchartButtonEl.classList.add('colab-df-spinner');\n",
              "      try {\n",
              "        const charts = await google.colab.kernel.invokeFunction(\n",
              "            'suggestCharts', [key], {});\n",
              "      } catch (error) {\n",
              "        console.error('Error during call to suggestCharts:', error);\n",
              "      }\n",
              "      quickchartButtonEl.classList.remove('colab-df-spinner');\n",
              "      quickchartButtonEl.classList.add('colab-df-quickchart-complete');\n",
              "    }\n",
              "    (() => {\n",
              "      let quickchartButtonEl =\n",
              "        document.querySelector('#df-b2bfa6a5-c46d-4927-940e-44a6672e2d45 button');\n",
              "      quickchartButtonEl.style.display =\n",
              "        google.colab.kernel.accessAllowed ? 'block' : 'none';\n",
              "    })();\n",
              "  </script>\n",
              "</div>\n",
              "    </div>\n",
              "  </div>\n"
            ]
          },
          "metadata": {},
          "execution_count": 8
        }
      ]
    },
    {
      "cell_type": "code",
      "source": [
        "plt.hist(MLENDYD_df[MLENDYD_df['Benchmark_A'] == 'Train']['rice_chips'])\n",
        "\n",
        "plt.title('Histogram of rice_chips where Benchmark_A is Train')\n",
        "plt.xlabel('rice_chips')\n",
        "plt.ylabel('Frequency')\n",
        "\n",
        "plt.show()"
      ],
      "metadata": {
        "colab": {
          "base_uri": "https://localhost:8080/",
          "height": 472
        },
        "id": "yTdIxTscJ1z6",
        "outputId": "c2c6e424-e3a2-41fa-b2f5-90098d0a5dc7"
      },
      "execution_count": null,
      "outputs": [
        {
          "output_type": "display_data",
          "data": {
            "text/plain": [
              "<Figure size 640x480 with 1 Axes>"
            ],
            "image/png": "[encoded data removed]"
          },
          "metadata": {}
        }
      ]
    },
    {
      "cell_type": "markdown",
      "source": [
        "From the histogram, we can see that in training set, the frequency of 'rice' and 'chips' images are imbalanced. Therefore in later section of model training, I need to set class_weight='balanced' to adjust the weight of the classes and avoid poor performance of minority class (Chips)."
      ],
      "metadata": {
        "id": "hdDr9pZ4KsFI"
      }
    },
    {
      "cell_type": "markdown",
      "source": [
        "Now, I will label 'rice' and 'chips'.\n",
        "- Class 0 for 'chips'\n",
        "- Class 1 for 'rice'"
      ],
      "metadata": {
        "id": "RfwQ20fouN6F"
      }
    },
    {
      "cell_type": "code",
      "source": [
        "from sklearn.preprocessing import LabelEncoder\n",
        "\n",
        "le = LabelEncoder()\n",
        "\n",
        "encoded_labels = le.fit_transform(MLENDYD_df['rice_chips'])\n",
        "\n",
        "MLENDYD_df['rice_chips_encoded'] = encoded_labels\n"
      ],
      "metadata": {
        "id": "OI_2IJ4Hgodq"
      },
      "execution_count": null,
      "outputs": []
    },
    {
      "cell_type": "code",
      "source": [
        "MLENDYD_df"
      ],
      "metadata": {
        "id": "lpNrgYD7QNA0",
        "colab": {
          "base_uri": "https://localhost:8080/",
          "height": 492
        },
        "outputId": "8d5f50fa-0591-4b3b-860e-920a6798200e"
      },
      "execution_count": null,
      "outputs": [
        {
          "output_type": "execute_result",
          "data": {
            "text/plain": [
              "                      Diet Cuisine_org      Cuisine  \\\n",
              "filename                                              \n",
              "000001.jpg  non_vegetarian    japanese     japanese   \n",
              "000016.jpg           vegan      indian       indian   \n",
              "000020.jpg      vegetarian      indian       indian   \n",
              "000021.jpg  non_vegetarian       asian        asian   \n",
              "000022.jpg      vegetarian      indian       indian   \n",
              "...                    ...         ...          ...   \n",
              "003234.jpg      vegetarian      indian       indian   \n",
              "003235.jpg  non_vegetarian   singapore  singaporean   \n",
              "003243.jpg      vegetarian     british      british   \n",
              "003244.jpg      vegetarian     italian      italian   \n",
              "003246.jpg      vegetarian      indian       indian   \n",
              "\n",
              "                                         Dish_name Home_or_restaurant  \\\n",
              "filename                                                                \n",
              "000001.jpg                      chicken_katsu_rice      marugame_udon   \n",
              "000016.jpg                                 khichdi               home   \n",
              "000020.jpg  lentil-based_vegetable_stew_with__rice               home   \n",
              "000021.jpg                                 biryani               home   \n",
              "000022.jpg                     rice_beetroot_curry               home   \n",
              "...                                            ...                ...   \n",
              "003234.jpg                              rasam_rice               home   \n",
              "003235.jpg                 singapore_style_noodles               asda   \n",
              "003243.jpg                pan-fried_beef_with_rice         restaurant   \n",
              "003244.jpg                                 khichdi               home   \n",
              "003246.jpg                              zeera_rice               home   \n",
              "\n",
              "                                                  Ingredients  \\\n",
              "filename                                                        \n",
              "000001.jpg              rice,chicken_breast,spicy_curry_sauce   \n",
              "000016.jpg                                  rice,spices,herbs   \n",
              "000020.jpg  ingredients:\\nfor_cooking_rice:\\n1_cup_rice_(a...   \n",
              "000021.jpg  mutton,rice,onion,tomato,red_chilli_powder,sal...   \n",
              "000022.jpg                          rice,beetroot,salt,spices   \n",
              "...                                                       ...   \n",
              "003234.jpg  garlic,curry_leaves,green_chilli,cumin,black_p...   \n",
              "003235.jpg  cooked_rice_noodles,roasted_chicken,water,red_...   \n",
              "003243.jpg                         rice,corn,beef,red_cabbage   \n",
              "003244.jpg  rice,split_yellow_mung_beans,salt,cumin_seeds,...   \n",
              "003246.jpg  1_cup_basmati_rice,2_cups_water,2_tablespoons_...   \n",
              "\n",
              "           Healthiness_rating  Healthiness_rating_int       Likeness  \\\n",
              "filename                                                               \n",
              "000001.jpg            neutral                     3.0           like   \n",
              "000016.jpg            healthy                     4.0        neutral   \n",
              "000020.jpg            healthy                     4.0           like   \n",
              "000021.jpg            healthy                     4.0  strongly_like   \n",
              "000022.jpg       very_healthy                     5.0        neutral   \n",
              "...                       ...                     ...            ...   \n",
              "003234.jpg       very_healthy                     5.0  strongly_like   \n",
              "003235.jpg       very_healthy                     5.0           like   \n",
              "003243.jpg            healthy                     4.0        dislike   \n",
              "003244.jpg            healthy                     4.0        neutral   \n",
              "003246.jpg            healthy                     4.0  strongly_like   \n",
              "\n",
              "            Likeness_int Benchmark_A rice_chips  rice_chips_encoded  \n",
              "filename                                                             \n",
              "000001.jpg           4.0       Train       rice                   1  \n",
              "000016.jpg           3.0        Test       rice                   1  \n",
              "000020.jpg           4.0        Test       rice                   1  \n",
              "000021.jpg           5.0       Train       rice                   1  \n",
              "000022.jpg           3.0       Train       rice                   1  \n",
              "...                  ...         ...        ...                 ...  \n",
              "003234.jpg           5.0        Test       rice                   1  \n",
              "003235.jpg           4.0        Test       rice                   1  \n",
              "003243.jpg           2.0       Train       rice                   1  \n",
              "003244.jpg           3.0       Train       rice                   1  \n",
              "003246.jpg           5.0       Train       rice                   1  \n",
              "\n",
              "[871 rows x 13 columns]"
            ],
            "text/html": [
              "\n",
              "  <div id=\"df-fec4c31f-afed-4935-acb7-db941471edf0\" class=\"colab-df-container\">\n",
              "    <div>\n",
              "<style scoped>\n",
              "    .dataframe tbody tr th:only-of-type {\n",
              "        vertical-align: middle;\n",
              "    }\n",
              "\n",
              "    .dataframe tbody tr th {\n",
              "        vertical-align: top;\n",
              "    }\n",
              "\n",
              "    .dataframe thead th {\n",
              "        text-align: right;\n",
              "    }\n",
              "</style>\n",
              "<table border=\"1\" class=\"dataframe\">\n",
              "  <thead>\n",
              "    <tr style=\"text-align: right;\">\n",
              "      <th></th>\n",
              "      <th>Diet</th>\n",
              "      <th>Cuisine_org</th>\n",
              "      <th>Cuisine</th>\n",
              "      <th>Dish_name</th>\n",
              "      <th>Home_or_restaurant</th>\n",
              "      <th>Ingredients</th>\n",
              "      <th>Healthiness_rating</th>\n",
              "      <th>Healthiness_rating_int</th>\n",
              "      <th>Likeness</th>\n",
              "      <th>Likeness_int</th>\n",
              "      <th>Benchmark_A</th>\n",
              "      <th>rice_chips</th>\n",
              "      <th>rice_chips_encoded</th>\n",
              "    </tr>\n",
              "    <tr>\n",
              "      <th>filename</th>\n",
              "      <th></th>\n",
              "      <th></th>\n",
              "      <th></th>\n",
              "      <th></th>\n",
              "      <th></th>\n",
              "      <th></th>\n",
              "      <th></th>\n",
              "      <th></th>\n",
              "      <th></th>\n",
              "      <th></th>\n",
              "      <th></th>\n",
              "      <th></th>\n",
              "      <th></th>\n",
              "    </tr>\n",
              "  </thead>\n",
              "  <tbody>\n",
              "    <tr>\n",
              "      <th>000001.jpg</th>\n",
              "      <td>non_vegetarian</td>\n",
              "      <td>japanese</td>\n",
              "      <td>japanese</td>\n",
              "      <td>chicken_katsu_rice</td>\n",
              "      <td>marugame_udon</td>\n",
              "      <td>rice,chicken_breast,spicy_curry_sauce</td>\n",
              "      <td>neutral</td>\n",
              "      <td>3.0</td>\n",
              "      <td>like</td>\n",
              "      <td>4.0</td>\n",
              "      <td>Train</td>\n",
              "      <td>rice</td>\n",
              "      <td>1</td>\n",
              "    </tr>\n",
              "    <tr>\n",
              "      <th>000016.jpg</th>\n",
              "      <td>vegan</td>\n",
              "      <td>indian</td>\n",
              "      <td>indian</td>\n",
              "      <td>khichdi</td>\n",
              "      <td>home</td>\n",
              "      <td>rice,spices,herbs</td>\n",
              "      <td>healthy</td>\n",
              "      <td>4.0</td>\n",
              "      <td>neutral</td>\n",
              "      <td>3.0</td>\n",
              "      <td>Test</td>\n",
              "      <td>rice</td>\n",
              "      <td>1</td>\n",
              "    </tr>\n",
              "    <tr>\n",
              "      <th>000020.jpg</th>\n",
              "      <td>vegetarian</td>\n",
              "      <td>indian</td>\n",
              "      <td>indian</td>\n",
              "      <td>lentil-based_vegetable_stew_with__rice</td>\n",
              "      <td>home</td>\n",
              "      <td>ingredients:\\nfor_cooking_rice:\\n1_cup_rice_(a...</td>\n",
              "      <td>healthy</td>\n",
              "      <td>4.0</td>\n",
              "      <td>like</td>\n",
              "      <td>4.0</td>\n",
              "      <td>Test</td>\n",
              "      <td>rice</td>\n",
              "      <td>1</td>\n",
              "    </tr>\n",
              "    <tr>\n",
              "      <th>000021.jpg</th>\n",
              "      <td>non_vegetarian</td>\n",
              "      <td>asian</td>\n",
              "      <td>asian</td>\n",
              "      <td>biryani</td>\n",
              "      <td>home</td>\n",
              "      <td>mutton,rice,onion,tomato,red_chilli_powder,sal...</td>\n",
              "      <td>healthy</td>\n",
              "      <td>4.0</td>\n",
              "      <td>strongly_like</td>\n",
              "      <td>5.0</td>\n",
              "      <td>Train</td>\n",
              "      <td>rice</td>\n",
              "      <td>1</td>\n",
              "    </tr>\n",
              "    <tr>\n",
              "      <th>000022.jpg</th>\n",
              "      <td>vegetarian</td>\n",
              "      <td>indian</td>\n",
              "      <td>indian</td>\n",
              "      <td>rice_beetroot_curry</td>\n",
              "      <td>home</td>\n",
              "      <td>rice,beetroot,salt,spices</td>\n",
              "      <td>very_healthy</td>\n",
              "      <td>5.0</td>\n",
              "      <td>neutral</td>\n",
              "      <td>3.0</td>\n",
              "      <td>Train</td>\n",
              "      <td>rice</td>\n",
              "      <td>1</td>\n",
              "    </tr>\n",
              "    <tr>\n",
              "      <th>...</th>\n",
              "      <td>...</td>\n",
              "      <td>...</td>\n",
              "      <td>...</td>\n",
              "      <td>...</td>\n",
              "      <td>...</td>\n",
              "      <td>...</td>\n",
              "      <td>...</td>\n",
              "      <td>...</td>\n",
              "      <td>...</td>\n",
              "      <td>...</td>\n",
              "      <td>...</td>\n",
              "      <td>...</td>\n",
              "      <td>...</td>\n",
              "    </tr>\n",
              "    <tr>\n",
              "      <th>003234.jpg</th>\n",
              "      <td>vegetarian</td>\n",
              "      <td>indian</td>\n",
              "      <td>indian</td>\n",
              "      <td>rasam_rice</td>\n",
              "      <td>home</td>\n",
              "      <td>garlic,curry_leaves,green_chilli,cumin,black_p...</td>\n",
              "      <td>very_healthy</td>\n",
              "      <td>5.0</td>\n",
              "      <td>strongly_like</td>\n",
              "      <td>5.0</td>\n",
              "      <td>Test</td>\n",
              "      <td>rice</td>\n",
              "      <td>1</td>\n",
              "    </tr>\n",
              "    <tr>\n",
              "      <th>003235.jpg</th>\n",
              "      <td>non_vegetarian</td>\n",
              "      <td>singapore</td>\n",
              "      <td>singaporean</td>\n",
              "      <td>singapore_style_noodles</td>\n",
              "      <td>asda</td>\n",
              "      <td>cooked_rice_noodles,roasted_chicken,water,red_...</td>\n",
              "      <td>very_healthy</td>\n",
              "      <td>5.0</td>\n",
              "      <td>like</td>\n",
              "      <td>4.0</td>\n",
              "      <td>Test</td>\n",
              "      <td>rice</td>\n",
              "      <td>1</td>\n",
              "    </tr>\n",
              "    <tr>\n",
              "      <th>003243.jpg</th>\n",
              "      <td>vegetarian</td>\n",
              "      <td>british</td>\n",
              "      <td>british</td>\n",
              "      <td>pan-fried_beef_with_rice</td>\n",
              "      <td>restaurant</td>\n",
              "      <td>rice,corn,beef,red_cabbage</td>\n",
              "      <td>healthy</td>\n",
              "      <td>4.0</td>\n",
              "      <td>dislike</td>\n",
              "      <td>2.0</td>\n",
              "      <td>Train</td>\n",
              "      <td>rice</td>\n",
              "      <td>1</td>\n",
              "    </tr>\n",
              "    <tr>\n",
              "      <th>003244.jpg</th>\n",
              "      <td>vegetarian</td>\n",
              "      <td>italian</td>\n",
              "      <td>italian</td>\n",
              "      <td>khichdi</td>\n",
              "      <td>home</td>\n",
              "      <td>rice,split_yellow_mung_beans,salt,cumin_seeds,...</td>\n",
              "      <td>healthy</td>\n",
              "      <td>4.0</td>\n",
              "      <td>neutral</td>\n",
              "      <td>3.0</td>\n",
              "      <td>Train</td>\n",
              "      <td>rice</td>\n",
              "      <td>1</td>\n",
              "    </tr>\n",
              "    <tr>\n",
              "      <th>003246.jpg</th>\n",
              "      <td>vegetarian</td>\n",
              "      <td>indian</td>\n",
              "      <td>indian</td>\n",
              "      <td>zeera_rice</td>\n",
              "      <td>home</td>\n",
              "      <td>1_cup_basmati_rice,2_cups_water,2_tablespoons_...</td>\n",
              "      <td>healthy</td>\n",
              "      <td>4.0</td>\n",
              "      <td>strongly_like</td>\n",
              "      <td>5.0</td>\n",
              "      <td>Train</td>\n",
              "      <td>rice</td>\n",
              "      <td>1</td>\n",
              "    </tr>\n",
              "  </tbody>\n",
              "</table>\n",
              "<p>871 rows × 13 columns</p>\n",
              "</div>\n",
              "    <div class=\"colab-df-buttons\">\n",
              "\n",
              "  <div class=\"colab-df-container\">\n",
              "    <button class=\"colab-df-convert\" onclick=\"convertToInteractive('df-fec4c31f-afed-4935-acb7-db941471edf0')\"\n",
              "            title=\"Convert this dataframe to an interactive table.\"\n",
              "            style=\"display:none;\">\n",
              "\n",
              "  <svg xmlns=\"http://www.w3.org/2000/svg\" height=\"24px\" viewBox=\"0 -960 960 960\">\n",
              "    <path d=\"M120-120v-720h720v720H120Zm60-500h600v-160H180v160Zm220 220h160v-160H400v160Zm0 220h160v-160H400v160ZM180-400h160v-160H180v160Zm440 0h160v-160H620v160ZM180-180h160v-160H180v160Zm440 0h160v-160H620v160Z\"/>\n",
              "  </svg>\n",
              "    </button>\n",
              "\n",
              "  <style>\n",
              "    .colab-df-container {\n",
              "      display:flex;\n",
              "      gap: 12px;\n",
              "    }\n",
              "\n",
              "    .colab-df-convert {\n",
              "      background-color: #E8F0FE;\n",
              "      border: none;\n",
              "      border-radius: 50%;\n",
              "      cursor: pointer;\n",
              "      display: none;\n",
              "      fill: #1967D2;\n",
              "      height: 32px;\n",
              "      padding: 0 0 0 0;\n",
              "      width: 32px;\n",
              "    }\n",
              "\n",
              "    .colab-df-convert:hover {\n",
              "      background-color: #E2EBFA;\n",
              "      box-shadow: 0px 1px 2px rgba(60, 64, 67, 0.3), 0px 1px 3px 1px rgba(60, 64, 67, 0.15);\n",
              "      fill: #174EA6;\n",
              "    }\n",
              "\n",
              "    .colab-df-buttons div {\n",
              "      margin-bottom: 4px;\n",
              "    }\n",
              "\n",
              "    [theme=dark] .colab-df-convert {\n",
              "      background-color: #3B4455;\n",
              "      fill: #D2E3FC;\n",
              "    }\n",
              "\n",
              "    [theme=dark] .colab-df-convert:hover {\n",
              "      background-color: #434B5C;\n",
              "      box-shadow: 0px 1px 3px 1px rgba(0, 0, 0, 0.15);\n",
              "      filter: drop-shadow(0px 1px 2px rgba(0, 0, 0, 0.3));\n",
              "      fill: #FFFFFF;\n",
              "    }\n",
              "  </style>\n",
              "\n",
              "    <script>\n",
              "      const buttonEl =\n",
              "        document.querySelector('#df-fec4c31f-afed-4935-acb7-db941471edf0 button.colab-df-convert');\n",
              "      buttonEl.style.display =\n",
              "        google.colab.kernel.accessAllowed ? 'block' : 'none';\n",
              "\n",
              "      async function convertToInteractive(key) {\n",
              "        const element = document.querySelector('#df-fec4c31f-afed-4935-acb7-db941471edf0');\n",
              "        const dataTable =\n",
              "          await google.colab.kernel.invokeFunction('convertToInteractive',\n",
              "                                                    [key], {});\n",
              "        if (!dataTable) return;\n",
              "\n",
              "        const docLinkHtml = 'Like what you see? Visit the ' +\n",
              "          '<a target=\"_blank\" href=https://colab.research.google.com/notebooks/data_table.ipynb>data table notebook</a>'\n",
              "          + ' to learn more about interactive tables.';\n",
              "        element.innerHTML = '';\n",
              "        dataTable['output_type'] = 'display_data';\n",
              "        await google.colab.output.renderOutput(dataTable, element);\n",
              "        const docLink = document.createElement('div');\n",
              "        docLink.innerHTML = docLinkHtml;\n",
              "        element.appendChild(docLink);\n",
              "      }\n",
              "    </script>\n",
              "  </div>\n",
              "\n",
              "\n",
              "<div id=\"df-55394a18-1d72-4a81-80a0-94ff17992699\">\n",
              "  <button class=\"colab-df-quickchart\" onclick=\"quickchart('df-55394a18-1d72-4a81-80a0-94ff17992699')\"\n",
              "            title=\"Suggest charts\"\n",
              "            style=\"display:none;\">\n",
              "\n",
              "<svg xmlns=\"http://www.w3.org/2000/svg\" height=\"24px\"viewBox=\"0 0 24 24\"\n",
              "     width=\"24px\">\n",
              "    <g>\n",
              "        <path d=\"M19 3H5c-1.1 0-2 .9-2 2v14c0 1.1.9 2 2 2h14c1.1 0 2-.9 2-2V5c0-1.1-.9-2-2-2zM9 17H7v-7h2v7zm4 0h-2V7h2v10zm4 0h-2v-4h2v4z\"/>\n",
              "    </g>\n",
              "</svg>\n",
              "  </button>\n",
              "\n",
              "<style>\n",
              "  .colab-df-quickchart {\n",
              "      --bg-color: #E8F0FE;\n",
              "      --fill-color: #1967D2;\n",
              "      --hover-bg-color: #E2EBFA;\n",
              "      --hover-fill-color: #174EA6;\n",
              "      --disabled-fill-color: #AAA;\n",
              "      --disabled-bg-color: #DDD;\n",
              "  }\n",
              "\n",
              "  [theme=dark] .colab-df-quickchart {\n",
              "      --bg-color: #3B4455;\n",
              "      --fill-color: #D2E3FC;\n",
              "      --hover-bg-color: #434B5C;\n",
              "      --hover-fill-color: #FFFFFF;\n",
              "      --disabled-bg-color: #3B4455;\n",
              "      --disabled-fill-color: #666;\n",
              "  }\n",
              "\n",
              "  .colab-df-quickchart {\n",
              "    background-color: var(--bg-color);\n",
              "    border: none;\n",
              "    border-radius: 50%;\n",
              "    cursor: pointer;\n",
              "    display: none;\n",
              "    fill: var(--fill-color);\n",
              "    height: 32px;\n",
              "    padding: 0;\n",
              "    width: 32px;\n",
              "  }\n",
              "\n",
              "  .colab-df-quickchart:hover {\n",
              "    background-color: var(--hover-bg-color);\n",
              "    box-shadow: 0 1px 2px rgba(60, 64, 67, 0.3), 0 1px 3px 1px rgba(60, 64, 67, 0.15);\n",
              "    fill: var(--button-hover-fill-color);\n",
              "  }\n",
              "\n",
              "  .colab-df-quickchart-complete:disabled,\n",
              "  .colab-df-quickchart-complete:disabled:hover {\n",
              "    background-color: var(--disabled-bg-color);\n",
              "    fill: var(--disabled-fill-color);\n",
              "    box-shadow: none;\n",
              "  }\n",
              "\n",
              "  .colab-df-spinner {\n",
              "    border: 2px solid var(--fill-color);\n",
              "    border-color: transparent;\n",
              "    border-bottom-color: var(--fill-color);\n",
              "    animation:\n",
              "      spin 1s steps(1) infinite;\n",
              "  }\n",
              "\n",
              "  @keyframes spin {\n",
              "    0% {\n",
              "      border-color: transparent;\n",
              "      border-bottom-color: var(--fill-color);\n",
              "      border-left-color: var(--fill-color);\n",
              "    }\n",
              "    20% {\n",
              "      border-color: transparent;\n",
              "      border-left-color: var(--fill-color);\n",
              "      border-top-color: var(--fill-color);\n",
              "    }\n",
              "    30% {\n",
              "      border-color: transparent;\n",
              "      border-left-color: var(--fill-color);\n",
              "      border-top-color: var(--fill-color);\n",
              "      border-right-color: var(--fill-color);\n",
              "    }\n",
              "    40% {\n",
              "      border-color: transparent;\n",
              "      border-right-color: var(--fill-color);\n",
              "      border-top-color: var(--fill-color);\n",
              "    }\n",
              "    60% {\n",
              "      border-color: transparent;\n",
              "      border-right-color: var(--fill-color);\n",
              "    }\n",
              "    80% {\n",
              "      border-color: transparent;\n",
              "      border-right-color: var(--fill-color);\n",
              "      border-bottom-color: var(--fill-color);\n",
              "    }\n",
              "    90% {\n",
              "      border-color: transparent;\n",
              "      border-bottom-color: var(--fill-color);\n",
              "    }\n",
              "  }\n",
              "</style>\n",
              "\n",
              "  <script>\n",
              "    async function quickchart(key) {\n",
              "      const quickchartButtonEl =\n",
              "        document.querySelector('#' + key + ' button');\n",
              "      quickchartButtonEl.disabled = true;  // To prevent multiple clicks.\n",
              "      quickchartButtonEl.classList.add('colab-df-spinner');\n",
              "      try {\n",
              "        const charts = await google.colab.kernel.invokeFunction(\n",
              "            'suggestCharts', [key], {});\n",
              "      } catch (error) {\n",
              "        console.error('Error during call to suggestCharts:', error);\n",
              "      }\n",
              "      quickchartButtonEl.classList.remove('colab-df-spinner');\n",
              "      quickchartButtonEl.classList.add('colab-df-quickchart-complete');\n",
              "    }\n",
              "    (() => {\n",
              "      let quickchartButtonEl =\n",
              "        document.querySelector('#df-55394a18-1d72-4a81-80a0-94ff17992699 button');\n",
              "      quickchartButtonEl.style.display =\n",
              "        google.colab.kernel.accessAllowed ? 'block' : 'none';\n",
              "    })();\n",
              "  </script>\n",
              "</div>\n",
              "    </div>\n",
              "  </div>\n"
            ]
          },
          "metadata": {},
          "execution_count": 14
        }
      ]
    },
    {
      "cell_type": "markdown",
      "source": [
        "Based on the Benchmark_A, I will separate the dataset into TrainSet and TestSet."
      ],
      "metadata": {
        "id": "gNW_kGSBuihe"
      }
    },
    {
      "cell_type": "markdown",
      "source": [
        "Now, I will create TrainSet and TestSet and both consists of X_paths, Y and Y_encoded and the mapping for 'rice' and 'chips'."
      ],
      "metadata": {
        "id": "rAl8Y7Z5utqf"
      }
    },
    {
      "cell_type": "code",
      "source": [
        "TrainSet = {}\n",
        "TestSet = {}\n",
        "\n",
        "TrainSet['Y'] = MLENDYD_df.loc[MLENDYD_df['Benchmark_A'] == 'Train', 'rice_chips'].values\n",
        "TestSet['Y'] = MLENDYD_df.loc[MLENDYD_df['Benchmark_A'] == 'Test', 'rice_chips'].values"
      ],
      "metadata": {
        "id": "vi88WpojgqdH"
      },
      "execution_count": null,
      "outputs": []
    },
    {
      "cell_type": "code",
      "source": [
        "print(TrainSet['Y'].shape)\n",
        "print(TestSet['Y'].shape)"
      ],
      "metadata": {
        "id": "ZPXMVkEcw4jD",
        "colab": {
          "base_uri": "https://localhost:8080/"
        },
        "outputId": "47cbb987-c4f6-408a-b742-d38e508a7a37"
      },
      "execution_count": null,
      "outputs": [
        {
          "output_type": "stream",
          "name": "stdout",
          "text": [
            "(602,)\n",
            "(269,)\n"
          ]
        }
      ]
    },
    {
      "cell_type": "code",
      "source": [
        "TrainSet['Y']"
      ],
      "metadata": {
        "colab": {
          "base_uri": "https://localhost:8080/"
        },
        "id": "xIoXUDdTYulj",
        "outputId": "aae4f5cd-887a-4378-f485-0179d2f5e97a"
      },
      "execution_count": null,
      "outputs": [
        {
          "output_type": "execute_result",
          "data": {
            "text/plain": [
              "array(['rice', 'rice', 'rice', 'chips', 'rice', 'rice', 'rice', 'rice',\n",
              "       'rice', 'rice', 'rice', 'rice', 'chips', 'rice', 'rice', 'rice',\n",
              "       'rice', 'rice', 'rice', 'rice', 'rice', 'rice', 'rice', 'rice',\n",
              "       'rice', 'chips', 'rice', 'rice', 'rice', 'chips', 'rice', 'rice',\n",
              "       'rice', 'rice', 'rice', 'rice', 'rice', 'chips', 'chips', 'rice',\n",
              "       'rice', 'rice', 'rice', 'rice', 'rice', 'rice', 'chips', 'rice',\n",
              "       'rice', 'rice', 'rice', 'rice', 'rice', 'rice', 'rice', 'rice',\n",
              "       'rice', 'rice', 'chips', 'rice', 'rice', 'rice', 'rice', 'rice',\n",
              "       'chips', 'rice', 'rice', 'rice', 'chips', 'rice', 'rice', 'rice',\n",
              "       'rice', 'rice', 'rice', 'rice', 'rice', 'rice', 'rice', 'rice',\n",
              "       'rice', 'chips', 'chips', 'rice', 'rice', 'rice', 'rice', 'rice',\n",
              "       'rice', 'rice', 'rice', 'rice', 'rice', 'rice', 'rice', 'rice',\n",
              "       'rice', 'rice', 'rice', 'rice', 'rice', 'rice', 'rice', 'rice',\n",
              "       'rice', 'chips', 'rice', 'rice', 'rice', 'rice', 'rice', 'rice',\n",
              "       'rice', 'chips', 'rice', 'rice', 'rice', 'rice', 'chips', 'rice',\n",
              "       'rice', 'rice', 'rice', 'rice', 'rice', 'rice', 'rice', 'rice',\n",
              "       'rice', 'rice', 'rice', 'rice', 'rice', 'rice', 'chips', 'rice',\n",
              "       'rice', 'rice', 'rice', 'rice', 'rice', 'rice', 'rice', 'rice',\n",
              "       'rice', 'rice', 'rice', 'rice', 'rice', 'rice', 'rice', 'rice',\n",
              "       'rice', 'rice', 'rice', 'rice', 'rice', 'rice', 'rice', 'rice',\n",
              "       'rice', 'rice', 'rice', 'rice', 'rice', 'chips', 'rice', 'rice',\n",
              "       'rice', 'rice', 'rice', 'rice', 'rice', 'rice', 'rice', 'rice',\n",
              "       'rice', 'rice', 'rice', 'rice', 'rice', 'rice', 'rice', 'rice',\n",
              "       'rice', 'rice', 'rice', 'rice', 'rice', 'rice', 'rice', 'rice',\n",
              "       'rice', 'rice', 'rice', 'rice', 'chips', 'rice', 'rice', 'rice',\n",
              "       'rice', 'rice', 'rice', 'rice', 'chips', 'rice', 'rice', 'rice',\n",
              "       'rice', 'rice', 'rice', 'rice', 'rice', 'rice', 'chips', 'rice',\n",
              "       'rice', 'rice', 'rice', 'rice', 'rice', 'rice', 'rice', 'rice',\n",
              "       'rice', 'rice', 'rice', 'rice', 'rice', 'chips', 'rice', 'rice',\n",
              "       'rice', 'rice', 'rice', 'rice', 'chips', 'rice', 'rice', 'rice',\n",
              "       'rice', 'rice', 'rice', 'rice', 'rice', 'rice', 'rice', 'rice',\n",
              "       'chips', 'rice', 'rice', 'rice', 'rice', 'rice', 'rice', 'chips',\n",
              "       'rice', 'rice', 'rice', 'rice', 'rice', 'rice', 'rice', 'chips',\n",
              "       'rice', 'rice', 'rice', 'rice', 'rice', 'rice', 'rice', 'rice',\n",
              "       'rice', 'rice', 'rice', 'rice', 'rice', 'rice', 'rice', 'rice',\n",
              "       'rice', 'rice', 'rice', 'rice', 'rice', 'rice', 'chips', 'rice',\n",
              "       'rice', 'rice', 'rice', 'rice', 'rice', 'rice', 'rice', 'rice',\n",
              "       'rice', 'rice', 'rice', 'rice', 'chips', 'rice', 'rice', 'rice',\n",
              "       'rice', 'rice', 'rice', 'rice', 'rice', 'chips', 'rice', 'rice',\n",
              "       'rice', 'rice', 'rice', 'rice', 'rice', 'rice', 'rice', 'rice',\n",
              "       'rice', 'rice', 'rice', 'rice', 'rice', 'rice', 'rice', 'rice',\n",
              "       'rice', 'rice', 'rice', 'chips', 'rice', 'rice', 'rice', 'rice',\n",
              "       'rice', 'rice', 'chips', 'rice', 'rice', 'rice', 'rice', 'rice',\n",
              "       'rice', 'rice', 'rice', 'rice', 'rice', 'rice', 'rice', 'rice',\n",
              "       'rice', 'rice', 'rice', 'rice', 'rice', 'rice', 'rice', 'rice',\n",
              "       'rice', 'rice', 'rice', 'rice', 'rice', 'rice', 'chips', 'rice',\n",
              "       'rice', 'rice', 'chips', 'rice', 'chips', 'rice', 'rice', 'rice',\n",
              "       'rice', 'rice', 'rice', 'chips', 'rice', 'rice', 'rice', 'rice',\n",
              "       'rice', 'rice', 'rice', 'rice', 'rice', 'rice', 'rice', 'rice',\n",
              "       'rice', 'rice', 'rice', 'rice', 'rice', 'rice', 'rice', 'rice',\n",
              "       'rice', 'rice', 'rice', 'rice', 'rice', 'rice', 'rice', 'rice',\n",
              "       'rice', 'rice', 'rice', 'rice', 'rice', 'rice', 'rice', 'rice',\n",
              "       'rice', 'rice', 'rice', 'rice', 'rice', 'rice', 'rice', 'rice',\n",
              "       'chips', 'rice', 'rice', 'rice', 'rice', 'rice', 'rice', 'rice',\n",
              "       'rice', 'rice', 'chips', 'rice', 'rice', 'rice', 'rice', 'rice',\n",
              "       'rice', 'rice', 'rice', 'rice', 'rice', 'rice', 'rice', 'chips',\n",
              "       'rice', 'chips', 'rice', 'rice', 'rice', 'rice', 'rice', 'rice',\n",
              "       'rice', 'rice', 'rice', 'rice', 'rice', 'rice', 'rice', 'rice',\n",
              "       'rice', 'rice', 'rice', 'rice', 'rice', 'rice', 'rice', 'chips',\n",
              "       'rice', 'rice', 'chips', 'rice', 'rice', 'rice', 'rice', 'rice',\n",
              "       'rice', 'chips', 'rice', 'rice', 'rice', 'chips', 'rice', 'rice',\n",
              "       'chips', 'rice', 'rice', 'rice', 'rice', 'rice', 'rice', 'chips',\n",
              "       'rice', 'rice', 'rice', 'rice', 'chips', 'rice', 'rice', 'rice',\n",
              "       'rice', 'rice', 'rice', 'rice', 'rice', 'rice', 'chips', 'rice',\n",
              "       'rice', 'rice', 'rice', 'rice', 'rice', 'rice', 'rice', 'rice',\n",
              "       'chips', 'rice', 'rice', 'rice', 'rice', 'rice', 'rice', 'rice',\n",
              "       'rice', 'rice', 'rice', 'rice', 'rice', 'rice', 'rice', 'rice',\n",
              "       'rice', 'rice', 'rice', 'rice', 'rice', 'rice', 'rice', 'rice',\n",
              "       'rice', 'rice', 'rice', 'rice', 'rice', 'rice', 'rice', 'rice',\n",
              "       'rice', 'rice', 'rice', 'rice', 'rice', 'rice', 'rice', 'rice',\n",
              "       'rice', 'rice', 'rice', 'rice', 'rice', 'rice', 'rice', 'rice',\n",
              "       'rice', 'rice', 'rice', 'rice', 'rice', 'rice', 'rice', 'rice',\n",
              "       'rice', 'rice', 'rice', 'rice', 'rice', 'chips', 'rice', 'chips',\n",
              "       'rice', 'chips', 'rice', 'rice', 'rice', 'rice', 'rice', 'rice',\n",
              "       'rice', 'rice', 'rice', 'rice', 'rice', 'rice', 'rice', 'rice',\n",
              "       'rice', 'rice'], dtype=object)"
            ]
          },
          "metadata": {},
          "execution_count": 17
        }
      ]
    },
    {
      "cell_type": "code",
      "source": [
        "TrainSet['Y_encoded'] = MLENDYD_df.loc[MLENDYD_df['Benchmark_A'] == 'Train', 'rice_chips_encoded'].values\n",
        "TestSet['Y_encoded'] = MLENDYD_df.loc[MLENDYD_df['Benchmark_A'] == 'Test', 'rice_chips_encoded'].values"
      ],
      "metadata": {
        "id": "ErmV7GJygzmz"
      },
      "execution_count": null,
      "outputs": []
    },
    {
      "cell_type": "code",
      "source": [
        "print(TrainSet['Y_encoded'].shape)\n",
        "print(TestSet['Y_encoded'].shape)"
      ],
      "metadata": {
        "id": "46F2J-HvxB57",
        "colab": {
          "base_uri": "https://localhost:8080/"
        },
        "outputId": "c4a56dcc-5f56-4fd5-87e3-35b35ca54984"
      },
      "execution_count": null,
      "outputs": [
        {
          "output_type": "stream",
          "name": "stdout",
          "text": [
            "(602,)\n",
            "(269,)\n"
          ]
        }
      ]
    },
    {
      "cell_type": "code",
      "source": [
        "TrainSet['Y_encoded']"
      ],
      "metadata": {
        "colab": {
          "base_uri": "https://localhost:8080/"
        },
        "id": "fM9UJ-NYY4ZE",
        "outputId": "34e09a7c-0611-49b2-b380-f218d9825b35"
      },
      "execution_count": null,
      "outputs": [
        {
          "output_type": "execute_result",
          "data": {
            "text/plain": [
              "array([1, 1, 1, 0, 1, 1, 1, 1, 1, 1, 1, 1, 0, 1, 1, 1, 1, 1, 1, 1, 1, 1,\n",
              "       1, 1, 1, 0, 1, 1, 1, 0, 1, 1, 1, 1, 1, 1, 1, 0, 0, 1, 1, 1, 1, 1,\n",
              "       1, 1, 0, 1, 1, 1, 1, 1, 1, 1, 1, 1, 1, 1, 0, 1, 1, 1, 1, 1, 0, 1,\n",
              "       1, 1, 0, 1, 1, 1, 1, 1, 1, 1, 1, 1, 1, 1, 1, 0, 0, 1, 1, 1, 1, 1,\n",
              "       1, 1, 1, 1, 1, 1, 1, 1, 1, 1, 1, 1, 1, 1, 1, 1, 1, 0, 1, 1, 1, 1,\n",
              "       1, 1, 1, 0, 1, 1, 1, 1, 0, 1, 1, 1, 1, 1, 1, 1, 1, 1, 1, 1, 1, 1,\n",
              "       1, 1, 0, 1, 1, 1, 1, 1, 1, 1, 1, 1, 1, 1, 1, 1, 1, 1, 1, 1, 1, 1,\n",
              "       1, 1, 1, 1, 1, 1, 1, 1, 1, 1, 1, 0, 1, 1, 1, 1, 1, 1, 1, 1, 1, 1,\n",
              "       1, 1, 1, 1, 1, 1, 1, 1, 1, 1, 1, 1, 1, 1, 1, 1, 1, 1, 1, 1, 0, 1,\n",
              "       1, 1, 1, 1, 1, 1, 0, 1, 1, 1, 1, 1, 1, 1, 1, 1, 0, 1, 1, 1, 1, 1,\n",
              "       1, 1, 1, 1, 1, 1, 1, 1, 1, 0, 1, 1, 1, 1, 1, 1, 0, 1, 1, 1, 1, 1,\n",
              "       1, 1, 1, 1, 1, 1, 0, 1, 1, 1, 1, 1, 1, 0, 1, 1, 1, 1, 1, 1, 1, 0,\n",
              "       1, 1, 1, 1, 1, 1, 1, 1, 1, 1, 1, 1, 1, 1, 1, 1, 1, 1, 1, 1, 1, 1,\n",
              "       0, 1, 1, 1, 1, 1, 1, 1, 1, 1, 1, 1, 1, 1, 0, 1, 1, 1, 1, 1, 1, 1,\n",
              "       1, 0, 1, 1, 1, 1, 1, 1, 1, 1, 1, 1, 1, 1, 1, 1, 1, 1, 1, 1, 1, 1,\n",
              "       1, 0, 1, 1, 1, 1, 1, 1, 0, 1, 1, 1, 1, 1, 1, 1, 1, 1, 1, 1, 1, 1,\n",
              "       1, 1, 1, 1, 1, 1, 1, 1, 1, 1, 1, 1, 1, 1, 0, 1, 1, 1, 0, 1, 0, 1,\n",
              "       1, 1, 1, 1, 1, 0, 1, 1, 1, 1, 1, 1, 1, 1, 1, 1, 1, 1, 1, 1, 1, 1,\n",
              "       1, 1, 1, 1, 1, 1, 1, 1, 1, 1, 1, 1, 1, 1, 1, 1, 1, 1, 1, 1, 1, 1,\n",
              "       1, 1, 1, 1, 1, 1, 0, 1, 1, 1, 1, 1, 1, 1, 1, 1, 0, 1, 1, 1, 1, 1,\n",
              "       1, 1, 1, 1, 1, 1, 1, 0, 1, 0, 1, 1, 1, 1, 1, 1, 1, 1, 1, 1, 1, 1,\n",
              "       1, 1, 1, 1, 1, 1, 1, 1, 1, 0, 1, 1, 0, 1, 1, 1, 1, 1, 1, 0, 1, 1,\n",
              "       1, 0, 1, 1, 0, 1, 1, 1, 1, 1, 1, 0, 1, 1, 1, 1, 0, 1, 1, 1, 1, 1,\n",
              "       1, 1, 1, 1, 0, 1, 1, 1, 1, 1, 1, 1, 1, 1, 0, 1, 1, 1, 1, 1, 1, 1,\n",
              "       1, 1, 1, 1, 1, 1, 1, 1, 1, 1, 1, 1, 1, 1, 1, 1, 1, 1, 1, 1, 1, 1,\n",
              "       1, 1, 1, 1, 1, 1, 1, 1, 1, 1, 1, 1, 1, 1, 1, 1, 1, 1, 1, 1, 1, 1,\n",
              "       1, 1, 1, 1, 1, 1, 1, 1, 1, 0, 1, 0, 1, 0, 1, 1, 1, 1, 1, 1, 1, 1,\n",
              "       1, 1, 1, 1, 1, 1, 1, 1])"
            ]
          },
          "metadata": {},
          "execution_count": 20
        }
      ]
    },
    {
      "cell_type": "code",
      "source": [
        "MAPs = {'Rice_Chips': dict(zip(le.classes_, le.transform(le.classes_)))}"
      ],
      "metadata": {
        "id": "QkglzD-HhC3z"
      },
      "execution_count": null,
      "outputs": []
    },
    {
      "cell_type": "code",
      "source": [
        "MAPs"
      ],
      "metadata": {
        "id": "1cVA3618Rymk",
        "colab": {
          "base_uri": "https://localhost:8080/"
        },
        "outputId": "0ca69f99-c513-4556-ec68-8e9ef230f73c"
      },
      "execution_count": null,
      "outputs": [
        {
          "output_type": "execute_result",
          "data": {
            "text/plain": [
              "{'Rice_Chips': {'chips': 0, 'rice': 1}}"
            ]
          },
          "metadata": {},
          "execution_count": 22
        }
      ]
    },
    {
      "cell_type": "code",
      "source": [
        "train_filenames = MLENDYD_df.loc[MLENDYD_df['Benchmark_A'] == 'Train'].index.tolist()\n",
        "test_filenames = MLENDYD_df.loc[MLENDYD_df['Benchmark_A'] == 'Test'].index.tolist()"
      ],
      "metadata": {
        "id": "4t_SFC-chEOg"
      },
      "execution_count": null,
      "outputs": []
    },
    {
      "cell_type": "code",
      "source": [
        "image_dr = '/content/drive/MyDrive/Data_miniproject/MLEnd/yummy/MLEndYD_images/'\n",
        "image_paths = [os.path.join(image_dr, filename) for filename in MLENDYD_df.index]"
      ],
      "metadata": {
        "id": "i9VOGcA5xvRd"
      },
      "execution_count": null,
      "outputs": []
    },
    {
      "cell_type": "code",
      "source": [
        "len(image_paths)"
      ],
      "metadata": {
        "id": "L0IhLn9FSEo0",
        "colab": {
          "base_uri": "https://localhost:8080/"
        },
        "outputId": "f17b6083-2349-4517-cccb-616e9c260420"
      },
      "execution_count": null,
      "outputs": [
        {
          "output_type": "execute_result",
          "data": {
            "text/plain": [
              "871"
            ]
          },
          "metadata": {},
          "execution_count": 26
        }
      ]
    },
    {
      "cell_type": "code",
      "source": [
        "TrainSet['X_paths'] = [path for path in image_paths if os.path.basename(path) in train_filenames]\n",
        "TestSet['X_paths'] = [path for path in image_paths if os.path.basename(path) in test_filenames]"
      ],
      "metadata": {
        "id": "gIL_f_zkh6El"
      },
      "execution_count": null,
      "outputs": []
    },
    {
      "cell_type": "code",
      "source": [
        "print(len(TrainSet['X_paths']))\n",
        "print(len(TestSet['X_paths']))"
      ],
      "metadata": {
        "id": "RJIXSSZWxPe5",
        "colab": {
          "base_uri": "https://localhost:8080/"
        },
        "outputId": "f8e712c8-93d9-45eb-bd66-87893a9cb411"
      },
      "execution_count": null,
      "outputs": [
        {
          "output_type": "stream",
          "name": "stdout",
          "text": [
            "602\n",
            "269\n"
          ]
        }
      ]
    },
    {
      "cell_type": "code",
      "source": [
        "X_train_paths = TrainSet['X_paths']\n",
        "X_test_paths  = TestSet['X_paths']\n",
        "\n",
        "Y_train = TrainSet['Y_encoded']\n",
        "Y_test  = TestSet['Y_encoded']"
      ],
      "metadata": {
        "id": "Xx16yKHry4rn"
      },
      "execution_count": null,
      "outputs": []
    },
    {
      "cell_type": "markdown",
      "source": [
        "# Resizing images"
      ],
      "metadata": {
        "id": "QlgjNLjovAfV"
      }
    },
    {
      "cell_type": "markdown",
      "source": [
        "As images are not of the same size, we need to resize them so that they have the same size. To keep the aspect ratio of image as it is, we will append black color to make so that images are squared and then we will resize them to 200x200 pixels."
      ],
      "metadata": {
        "id": "0zVKhPnXva5H"
      }
    },
    {
      "cell_type": "code",
      "source": [
        "def make_it_square(I, pad=0):\n",
        "  N,M,C = I.shape\n",
        "  if N>M:\n",
        "    Is = [np.pad(I[:,:,i], [(0,0),(0, N-M)], 'constant', constant_values=pad) for i in range(C)]\n",
        "  else:\n",
        "    Is = [np.pad(I[:,:,i], [(0, M-N),(0,0)], 'constant', constant_values=pad) for i in range(C)]\n",
        "\n",
        "  return np.array(Is).transpose([1,2,0])\n",
        "\n",
        "def resize_img(I,size=[100,100]):\n",
        "  N,M,C = I.shape\n",
        "  Ir = [sp.core.processing.resize(I[:,:,i],size) for i in range(C)]\n",
        "  return np.array(Ir).transpose([1,2,0])"
      ],
      "metadata": {
        "id": "-0ZLEMzIqp6z"
      },
      "execution_count": null,
      "outputs": []
    },
    {
      "cell_type": "code",
      "source": [
        "X_train = []\n",
        "for k,file in enumerate(X_train_paths):\n",
        "  sp.utils.ProgBar_JL(k,len(X_train_paths),L=50,color='blue')\n",
        "  I = plt.imread(file)\n",
        "  I = make_it_square(I, pad=0)\n",
        "  I = resize_img(I,size=[200,200])\n",
        "  X_train.append(I)\n",
        "\n",
        "\n",
        "X_test = []\n",
        "for k,file in enumerate(X_test_paths):\n",
        "  sp.utils.ProgBar_JL(k,len(X_test_paths),L=50,color='blue')\n",
        "  I = plt.imread(file)\n",
        "  I = make_it_square(I, pad=0)\n",
        "  I = resize_img(I,size=[200,200])\n",
        "  X_test.append(I)\n",
        "\n",
        "X_train = np.array(X_train)\n",
        "X_test = np.array(X_test)\n",
        "X_train.shape, X_test.shape"
      ],
      "metadata": {
        "id": "dfQzFk-kq7Q0",
        "colab": {
          "base_uri": "https://localhost:8080/"
        },
        "outputId": "cf4666c6-0dbb-4654-b307-cb961cbca6ed"
      },
      "execution_count": null,
      "outputs": [
        {
          "output_type": "stream",
          "name": "stdout",
          "text": [
            "100%|\u001b[94m▓▓▓▓▓▓▓▓▓▓▓▓▓▓▓▓▓▓▓▓▓▓▓▓▓▓▓▓▓▓▓▓▓▓▓▓▓▓▓▓▓▓▓▓▓▓▓▓▓▓\u001b[0m|602\\602|\n",
            "Done!\n",
            "100%|\u001b[94m▓▓▓▓▓▓▓▓▓▓▓▓▓▓▓▓▓▓▓▓▓▓▓▓▓▓▓▓▓▓▓▓▓▓▓▓▓▓▓▓▓▓▓▓▓▓▓▓▓▓\u001b[0m|269\\269|\n",
            "Done!\n"
          ]
        },
        {
          "output_type": "execute_result",
          "data": {
            "text/plain": [
              "((602, 200, 200, 3), (269, 200, 200, 3))"
            ]
          },
          "metadata": {},
          "execution_count": 32
        }
      ]
    },
    {
      "cell_type": "markdown",
      "source": [
        "# Feature Extraction"
      ],
      "metadata": {
        "id": "ANObYLW_vq5y"
      }
    },
    {
      "cell_type": "markdown",
      "source": [
        "In this section, we will do some experiments. For the first try, we will include the features appeared in the Starter_Kit Notebook which extract yellow components and texture features from the images.\n",
        "\n",
        "Using a 200 x 200 pixels photo as the predictor, we need to start considering its dimensionality. Each photo is described by 3 x 200 x 200 = 120,000 values. Therefore, the predictor space has 120,000 dimensions. To train a model on such a space, we need a training dataset that has more than 120,000 samples. But we do not have such a large dataset.\n",
        "\n",
        "Therefore, we need to reduce the dimensionality of the predictor space, in other words, we will move our samples from a 120,000D space to another space with fewer dimensions."
      ],
      "metadata": {
        "id": "tfXkfTBkvubc"
      }
    },
    {
      "cell_type": "code",
      "source": [
        "from skimage.feature import ORB\n",
        "from skimage.feature import graycomatrix, graycoprops\n",
        "\n",
        "\n",
        "def get_yellow_component(I,t1=27, t2=33):\n",
        "  Ihsv = (rgb2hsv(I)*255).astype('uint8')\n",
        "  mask = (Ihsv[:,:,0]<t2)*(Ihsv[:,:,0]>t1)\n",
        "  Ypx = mask.sum()\n",
        "  return Ypx\n",
        "\n",
        "def GMLC_features(I):\n",
        "  Ig = (rgb2gray(I)*255).astype('uint8')\n",
        "  glcm = graycomatrix(Ig, distances=[5], angles=[0], levels=256,\n",
        "                        symmetric=True, normed=True)\n",
        "  f1 = graycoprops(glcm, 'dissimilarity')[0, 0]\n",
        "  f2 = graycoprops(glcm, 'correlation')[0, 0]\n",
        "  return f1,f2\n",
        "\n",
        "\n",
        "def showConfMat(CM, labels = ['Chips','Rice']):\n",
        "  plt.matshow(CM,cmap='Blues')\n",
        "  for i in range(CM.shape[0]):\n",
        "    for j in range(CM.shape[1]):\n",
        "      plt.text(i,j,CM[i,j].round(2),ha='center',)\n",
        "  plt.xticks([0,1],labels)\n",
        "  plt.yticks([0,1],labels)\n",
        "  plt.show()"
      ],
      "metadata": {
        "id": "-zMbzUzfq91n"
      },
      "execution_count": null,
      "outputs": []
    },
    {
      "cell_type": "code",
      "source": [
        "X_train_f = []\n",
        "for k, I in enumerate(X_train):\n",
        "  f1 = get_yellow_component(I)\n",
        "  f2,f3 = GMLC_features(I)\n",
        "  X_train_f.append([f1,f2,f3])\n",
        "\n",
        "X_test_f = []\n",
        "for k, I in enumerate(X_test):\n",
        "  f1 = get_yellow_component(I)\n",
        "  f2,f3 = GMLC_features(I)\n",
        "  X_test_f.append([f1,f2,f3])"
      ],
      "metadata": {
        "id": "C-_5kYiacj-Z"
      },
      "execution_count": null,
      "outputs": []
    },
    {
      "cell_type": "code",
      "source": [
        "X_train_f = np.array(X_train_f)\n",
        "X_test_f = np.array(X_test_f)\n",
        "X_train_f.shape, X_test_f.shape"
      ],
      "metadata": {
        "id": "VDkWWQfEc0wz",
        "colab": {
          "base_uri": "https://localhost:8080/"
        },
        "outputId": "896876f4-62a5-4e1d-88c3-8c84c6ce06b5"
      },
      "execution_count": null,
      "outputs": [
        {
          "output_type": "execute_result",
          "data": {
            "text/plain": [
              "((602, 3), (269, 3))"
            ]
          },
          "metadata": {},
          "execution_count": 89
        }
      ]
    },
    {
      "cell_type": "markdown",
      "source": [
        "Note that X_train_f represents a collection of 602 samples described by 3 attributes and X_test_f represent a collection of 269 samples described by 3 attributes. This feature extraction stage has reduced the dimensionality of our problem from 120,000D to 3D."
      ],
      "metadata": {
        "id": "Jkjvif7_wuUY"
      }
    },
    {
      "cell_type": "markdown",
      "source": [
        "# Normalisation\n",
        "\n",
        "In addition to reducing the dimensionality of the prediction space, let's implement a normalisation stage to ensure that the 3 attributes in the new prediction space take on a similar range of values."
      ],
      "metadata": {
        "id": "eyb4pOZ8w6ka"
      }
    },
    {
      "cell_type": "code",
      "source": [
        "MEAN = X_train_f.mean(0)\n",
        "SD = X_train_f.std(0)\n",
        "\n",
        "X_train_fn = (X_train_f - MEAN)/SD\n",
        "X_test_fn = (X_test_f - MEAN)/SD"
      ],
      "metadata": {
        "id": "ZGULxsrfc5uZ"
      },
      "execution_count": null,
      "outputs": []
    },
    {
      "cell_type": "code",
      "source": [
        "print(X_train_fn.shape)\n",
        "print(X_test_fn.shape)"
      ],
      "metadata": {
        "id": "1v30cYNgskQE",
        "colab": {
          "base_uri": "https://localhost:8080/"
        },
        "outputId": "35172dc4-a78a-4d14-abfb-8a795ff2b557"
      },
      "execution_count": null,
      "outputs": [
        {
          "output_type": "stream",
          "name": "stdout",
          "text": [
            "(602, 3)\n",
            "(269, 3)\n"
          ]
        }
      ]
    },
    {
      "cell_type": "markdown",
      "source": [
        "Now, we will perform 3 machine learning models and evaluate their performance: Linear Support Vector Classifier, Random Forest Classifier and Support Vector Machines - Support Vector Classifier."
      ],
      "metadata": {
        "id": "oTVTge0CxDdB"
      }
    },
    {
      "cell_type": "markdown",
      "source": [
        "# 8 Results"
      ],
      "metadata": {
        "id": "GYECOUUa462v"
      }
    },
    {
      "cell_type": "code",
      "source": [
        "from sklearn.ensemble import RandomForestClassifier\n",
        "from sklearn.svm import LinearSVC\n",
        "\n",
        "model = LinearSVC(C=10)\n",
        "model.fit(X_train_fn, Y_train)"
      ],
      "metadata": {
        "id": "BBf1F7ijc94Q",
        "colab": {
          "base_uri": "https://localhost:8080/",
          "height": 111
        },
        "outputId": "6cf667ad-8b64-4224-b23a-9d52a32d2219"
      },
      "execution_count": null,
      "outputs": [
        {
          "output_type": "stream",
          "name": "stderr",
          "text": [
            "/usr/local/lib/python3.10/dist-packages/sklearn/svm/_base.py:1244: ConvergenceWarning: Liblinear failed to converge, increase the number of iterations.\n"
          ]
        },
        {
          "output_type": "execute_result",
          "data": {
            "text/plain": [
              "LinearSVC(C=10)"
            ],
            "text/html": [
              "<style>#sk-container-id-9 {color: black;background-color: white;}#sk-container-id-9 pre{padding: 0;}#sk-container-id-9 div.sk-toggleable {background-color: white;}#sk-container-id-9 label.sk-toggleable__label {cursor: pointer;display: block;width: 100%;margin-bottom: 0;padding: 0.3em;box-sizing: border-box;text-align: center;}#sk-container-id-9 label.sk-toggleable__label-arrow:before {content: \"▸\";float: left;margin-right: 0.25em;color: #696969;}#sk-container-id-9 label.sk-toggleable__label-arrow:hover:before {color: black;}#sk-container-id-9 div.sk-estimator:hover label.sk-toggleable__label-arrow:before {color: black;}#sk-container-id-9 div.sk-toggleable__content {max-height: 0;max-width: 0;overflow: hidden;text-align: left;background-color: #f0f8ff;}#sk-container-id-9 div.sk-toggleable__content pre {margin: 0.2em;color: black;border-radius: 0.25em;background-color: #f0f8ff;}#sk-container-id-9 input.sk-toggleable__control:checked~div.sk-toggleable__content {max-height: 200px;max-width: 100%;overflow: auto;}#sk-container-id-9 input.sk-toggleable__control:checked~label.sk-toggleable__label-arrow:before {content: \"▾\";}#sk-container-id-9 div.sk-estimator input.sk-toggleable__control:checked~label.sk-toggleable__label {background-color: #d4ebff;}#sk-container-id-9 div.sk-label input.sk-toggleable__control:checked~label.sk-toggleable__label {background-color: #d4ebff;}#sk-container-id-9 input.sk-hidden--visually {border: 0;clip: rect(1px 1px 1px 1px);clip: rect(1px, 1px, 1px, 1px);height: 1px;margin: -1px;overflow: hidden;padding: 0;position: absolute;width: 1px;}#sk-container-id-9 div.sk-estimator {font-family: monospace;background-color: #f0f8ff;border: 1px dotted black;border-radius: 0.25em;box-sizing: border-box;margin-bottom: 0.5em;}#sk-container-id-9 div.sk-estimator:hover {background-color: #d4ebff;}#sk-container-id-9 div.sk-parallel-item::after {content: \"\";width: 100%;border-bottom: 1px solid gray;flex-grow: 1;}#sk-container-id-9 div.sk-label:hover label.sk-toggleable__label {background-color: #d4ebff;}#sk-container-id-9 div.sk-serial::before {content: \"\";position: absolute;border-left: 1px solid gray;box-sizing: border-box;top: 0;bottom: 0;left: 50%;z-index: 0;}#sk-container-id-9 div.sk-serial {display: flex;flex-direction: column;align-items: center;background-color: white;padding-right: 0.2em;padding-left: 0.2em;position: relative;}#sk-container-id-9 div.sk-item {position: relative;z-index: 1;}#sk-container-id-9 div.sk-parallel {display: flex;align-items: stretch;justify-content: center;background-color: white;position: relative;}#sk-container-id-9 div.sk-item::before, #sk-container-id-9 div.sk-parallel-item::before {content: \"\";position: absolute;border-left: 1px solid gray;box-sizing: border-box;top: 0;bottom: 0;left: 50%;z-index: -1;}#sk-container-id-9 div.sk-parallel-item {display: flex;flex-direction: column;z-index: 1;position: relative;background-color: white;}#sk-container-id-9 div.sk-parallel-item:first-child::after {align-self: flex-end;width: 50%;}#sk-container-id-9 div.sk-parallel-item:last-child::after {align-self: flex-start;width: 50%;}#sk-container-id-9 div.sk-parallel-item:only-child::after {width: 0;}#sk-container-id-9 div.sk-dashed-wrapped {border: 1px dashed gray;margin: 0 0.4em 0.5em 0.4em;box-sizing: border-box;padding-bottom: 0.4em;background-color: white;}#sk-container-id-9 div.sk-label label {font-family: monospace;font-weight: bold;display: inline-block;line-height: 1.2em;}#sk-container-id-9 div.sk-label-container {text-align: center;}#sk-container-id-9 div.sk-container {/* jupyter's `normalize.less` sets `[hidden] { display: none; }` but bootstrap.min.css set `[hidden] { display: none !important; }` so we also need the `!important` here to be able to override the default hidden behavior on the sphinx rendered scikit-learn.org. See: https://github.com/scikit-learn/scikit-learn/issues/21755 */display: inline-block !important;position: relative;}#sk-container-id-9 div.sk-text-repr-fallback {display: none;}</style><div id=\"sk-container-id-9\" class=\"sk-top-container\"><div class=\"sk-text-repr-fallback\"><pre>LinearSVC(C=10)</pre><b>In a Jupyter environment, please rerun this cell to show the HTML representation or trust the notebook. <br />On GitHub, the HTML representation is unable to render, please try loading this page with nbviewer.org.</b></div><div class=\"sk-container\" hidden><div class=\"sk-item\"><div class=\"sk-estimator sk-toggleable\"><input class=\"sk-toggleable__control sk-hidden--visually\" id=\"sk-estimator-id-9\" type=\"checkbox\" checked><label for=\"sk-estimator-id-9\" class=\"sk-toggleable__label sk-toggleable__label-arrow\">LinearSVC</label><div class=\"sk-toggleable__content\"><pre>LinearSVC(C=10)</pre></div></div></div></div></div>"
            ]
          },
          "metadata": {},
          "execution_count": 92
        }
      ]
    },
    {
      "cell_type": "code",
      "source": [
        "ytp = model.predict(X_train_fn)\n",
        "ysp = model.predict(X_test_fn)\n",
        "\n",
        "train_accuracy = np.mean(ytp==Y_train)\n",
        "test_accuracy  = np.mean(ysp==Y_test)\n",
        "\n",
        "print('Training Accuracy:\\t',train_accuracy)\n",
        "print('Test  Accuracy:\\t',test_accuracy)"
      ],
      "metadata": {
        "id": "_kJjicp-duaw",
        "colab": {
          "base_uri": "https://localhost:8080/"
        },
        "outputId": "0c6dabd7-7055-4329-a2e0-72eb804ddd4e"
      },
      "execution_count": null,
      "outputs": [
        {
          "output_type": "stream",
          "name": "stdout",
          "text": [
            "Training Accuracy:\t 0.9169435215946844\n",
            "Test  Accuracy:\t 0.9219330855018587\n"
          ]
        }
      ]
    },
    {
      "cell_type": "markdown",
      "source": [
        "We could see that the training accuracy is around 92% and test accuracy is 92%. The accuracy is very high. Let's check the confusion matrix to see if it really did that well."
      ],
      "metadata": {
        "id": "mkILexeBzVeU"
      }
    },
    {
      "cell_type": "code",
      "source": [
        "Ac = np.mean(ysp[Y_test.astype(int)==0]==0)\n",
        "Ar = np.mean(ysp[Y_test.astype(int)==1]==1)\n",
        "\n",
        "Mc = np.mean(ysp[Y_test.astype(int)==0]==1)\n",
        "Mr = np.mean(ysp[Y_test.astype(int)==1]==0)\n",
        "\n",
        "CM = np.array([[Ac, Mc],[Mr, Ar]])\n",
        "\n",
        "showConfMat(CM)"
      ],
      "metadata": {
        "id": "uGW8nf27eBEj",
        "colab": {
          "base_uri": "https://localhost:8080/",
          "height": 437
        },
        "outputId": "e8b5e52f-d7b2-4276-805e-b62c73859fce"
      },
      "execution_count": null,
      "outputs": [
        {
          "output_type": "display_data",
          "data": {
            "text/plain": [
              "<Figure size 480x480 with 1 Axes>"
            ],
            "image/png": "[encoded data removed]"
          },
          "metadata": {}
        }
      ]
    },
    {
      "cell_type": "markdown",
      "source": [
        "Although we can see that the model performs perfectly on ‘Rice’ images but it performs bad on 'Chips' images."
      ],
      "metadata": {
        "id": "LwTNoEsAzgHG"
      }
    },
    {
      "cell_type": "code",
      "source": [
        "model = RandomForestClassifier(n_estimators=5,max_depth=3,class_weight='balanced')\n",
        "model.fit(X_train_fn, Y_train)"
      ],
      "metadata": {
        "id": "BACyEXs29kSo",
        "colab": {
          "base_uri": "https://localhost:8080/",
          "height": 74
        },
        "outputId": "d08138b7-4397-43c8-a715-3f3f32b81424"
      },
      "execution_count": null,
      "outputs": [
        {
          "output_type": "execute_result",
          "data": {
            "text/plain": [
              "RandomForestClassifier(class_weight='balanced', max_depth=3, n_estimators=5)"
            ],
            "text/html": [
              "<style>#sk-container-id-10 {color: black;background-color: white;}#sk-container-id-10 pre{padding: 0;}#sk-container-id-10 div.sk-toggleable {background-color: white;}#sk-container-id-10 label.sk-toggleable__label {cursor: pointer;display: block;width: 100%;margin-bottom: 0;padding: 0.3em;box-sizing: border-box;text-align: center;}#sk-container-id-10 label.sk-toggleable__label-arrow:before {content: \"▸\";float: left;margin-right: 0.25em;color: #696969;}#sk-container-id-10 label.sk-toggleable__label-arrow:hover:before {color: black;}#sk-container-id-10 div.sk-estimator:hover label.sk-toggleable__label-arrow:before {color: black;}#sk-container-id-10 div.sk-toggleable__content {max-height: 0;max-width: 0;overflow: hidden;text-align: left;background-color: #f0f8ff;}#sk-container-id-10 div.sk-toggleable__content pre {margin: 0.2em;color: black;border-radius: 0.25em;background-color: #f0f8ff;}#sk-container-id-10 input.sk-toggleable__control:checked~div.sk-toggleable__content {max-height: 200px;max-width: 100%;overflow: auto;}#sk-container-id-10 input.sk-toggleable__control:checked~label.sk-toggleable__label-arrow:before {content: \"▾\";}#sk-container-id-10 div.sk-estimator input.sk-toggleable__control:checked~label.sk-toggleable__label {background-color: #d4ebff;}#sk-container-id-10 div.sk-label input.sk-toggleable__control:checked~label.sk-toggleable__label {background-color: #d4ebff;}#sk-container-id-10 input.sk-hidden--visually {border: 0;clip: rect(1px 1px 1px 1px);clip: rect(1px, 1px, 1px, 1px);height: 1px;margin: -1px;overflow: hidden;padding: 0;position: absolute;width: 1px;}#sk-container-id-10 div.sk-estimator {font-family: monospace;background-color: #f0f8ff;border: 1px dotted black;border-radius: 0.25em;box-sizing: border-box;margin-bottom: 0.5em;}#sk-container-id-10 div.sk-estimator:hover {background-color: #d4ebff;}#sk-container-id-10 div.sk-parallel-item::after {content: \"\";width: 100%;border-bottom: 1px solid gray;flex-grow: 1;}#sk-container-id-10 div.sk-label:hover label.sk-toggleable__label {background-color: #d4ebff;}#sk-container-id-10 div.sk-serial::before {content: \"\";position: absolute;border-left: 1px solid gray;box-sizing: border-box;top: 0;bottom: 0;left: 50%;z-index: 0;}#sk-container-id-10 div.sk-serial {display: flex;flex-direction: column;align-items: center;background-color: white;padding-right: 0.2em;padding-left: 0.2em;position: relative;}#sk-container-id-10 div.sk-item {position: relative;z-index: 1;}#sk-container-id-10 div.sk-parallel {display: flex;align-items: stretch;justify-content: center;background-color: white;position: relative;}#sk-container-id-10 div.sk-item::before, #sk-container-id-10 div.sk-parallel-item::before {content: \"\";position: absolute;border-left: 1px solid gray;box-sizing: border-box;top: 0;bottom: 0;left: 50%;z-index: -1;}#sk-container-id-10 div.sk-parallel-item {display: flex;flex-direction: column;z-index: 1;position: relative;background-color: white;}#sk-container-id-10 div.sk-parallel-item:first-child::after {align-self: flex-end;width: 50%;}#sk-container-id-10 div.sk-parallel-item:last-child::after {align-self: flex-start;width: 50%;}#sk-container-id-10 div.sk-parallel-item:only-child::after {width: 0;}#sk-container-id-10 div.sk-dashed-wrapped {border: 1px dashed gray;margin: 0 0.4em 0.5em 0.4em;box-sizing: border-box;padding-bottom: 0.4em;background-color: white;}#sk-container-id-10 div.sk-label label {font-family: monospace;font-weight: bold;display: inline-block;line-height: 1.2em;}#sk-container-id-10 div.sk-label-container {text-align: center;}#sk-container-id-10 div.sk-container {/* jupyter's `normalize.less` sets `[hidden] { display: none; }` but bootstrap.min.css set `[hidden] { display: none !important; }` so we also need the `!important` here to be able to override the default hidden behavior on the sphinx rendered scikit-learn.org. See: https://github.com/scikit-learn/scikit-learn/issues/21755 */display: inline-block !important;position: relative;}#sk-container-id-10 div.sk-text-repr-fallback {display: none;}</style><div id=\"sk-container-id-10\" class=\"sk-top-container\"><div class=\"sk-text-repr-fallback\"><pre>RandomForestClassifier(class_weight=&#x27;balanced&#x27;, max_depth=3, n_estimators=5)</pre><b>In a Jupyter environment, please rerun this cell to show the HTML representation or trust the notebook. <br />On GitHub, the HTML representation is unable to render, please try loading this page with nbviewer.org.</b></div><div class=\"sk-container\" hidden><div class=\"sk-item\"><div class=\"sk-estimator sk-toggleable\"><input class=\"sk-toggleable__control sk-hidden--visually\" id=\"sk-estimator-id-10\" type=\"checkbox\" checked><label for=\"sk-estimator-id-10\" class=\"sk-toggleable__label sk-toggleable__label-arrow\">RandomForestClassifier</label><div class=\"sk-toggleable__content\"><pre>RandomForestClassifier(class_weight=&#x27;balanced&#x27;, max_depth=3, n_estimators=5)</pre></div></div></div></div></div>"
            ]
          },
          "metadata": {},
          "execution_count": 95
        }
      ]
    },
    {
      "cell_type": "code",
      "source": [
        "ytp = model.predict(X_train_fn)\n",
        "ysp = model.predict(X_test_fn)\n",
        "\n",
        "train_accuracy = np.mean(ytp==Y_train)\n",
        "test_accuracy  = np.mean(ysp==Y_test)\n",
        "\n",
        "print('Training Accuracy:\\t',train_accuracy)\n",
        "print('Test  Accuracy:\\t',test_accuracy)"
      ],
      "metadata": {
        "id": "kl_nulB0A_OC",
        "colab": {
          "base_uri": "https://localhost:8080/"
        },
        "outputId": "8acf5722-0b04-42e1-f94b-2b7d593a9a3d"
      },
      "execution_count": null,
      "outputs": [
        {
          "output_type": "stream",
          "name": "stdout",
          "text": [
            "Training Accuracy:\t 0.6810631229235881\n",
            "Test  Accuracy:\t 0.6171003717472119\n"
          ]
        }
      ]
    },
    {
      "cell_type": "markdown",
      "source": [
        "For Random Forest Classifier, we could see that training accuracy is about 68% and test accuracy is around 62%."
      ],
      "metadata": {
        "id": "dx3BfsRI0H3G"
      }
    },
    {
      "cell_type": "code",
      "source": [
        "Ac = np.mean(ysp[Y_test.astype(int)==0]==0)\n",
        "Ar = np.mean(ysp[Y_test.astype(int)==1]==1)\n",
        "\n",
        "Mc = np.mean(ysp[Y_test.astype(int)==0]==1)\n",
        "Mr = np.mean(ysp[Y_test.astype(int)==1]==0)\n",
        "\n",
        "CM = np.array([[Ac, Mc],[Mr, Ar]])\n",
        "\n",
        "showConfMat(CM)"
      ],
      "metadata": {
        "id": "98Pm8_-kBBHj",
        "colab": {
          "base_uri": "https://localhost:8080/",
          "height": 437
        },
        "outputId": "6202ba59-2e00-44df-8915-08ba8677a65f"
      },
      "execution_count": null,
      "outputs": [
        {
          "output_type": "display_data",
          "data": {
            "text/plain": [
              "<Figure size 480x480 with 1 Axes>"
            ],
            "image/png": "[encoded data removed]"
          },
          "metadata": {}
        }
      ]
    },
    {
      "cell_type": "markdown",
      "source": [
        "From confusion matrix, we could see that the model correctly predicted 43% of ‘Chips’ images and the model correctly predicted 63% of ‘Rice’ images."
      ],
      "metadata": {
        "id": "nYi3x3_I0kfw"
      }
    },
    {
      "cell_type": "code",
      "source": [
        "from sklearn import svm\n",
        "\n",
        "model = svm.SVC(kernel='rbf', class_weight='balanced')\n",
        "\n",
        "model.fit(X_train_fn, Y_train)\n",
        "\n",
        "ytp = model.predict(X_train_fn)\n",
        "ysp = model.predict(X_test_fn)"
      ],
      "metadata": {
        "id": "VVsfYYxXBEL8"
      },
      "execution_count": null,
      "outputs": []
    },
    {
      "cell_type": "code",
      "source": [
        "train_accuracy = np.mean(ytp==Y_train)\n",
        "test_accuracy  = np.mean(ysp==Y_test)\n",
        "\n",
        "print('Training Accuracy:\\t',train_accuracy)\n",
        "print('Test  Accuracy:\\t',test_accuracy)"
      ],
      "metadata": {
        "id": "GOCFgvs1qtvm",
        "colab": {
          "base_uri": "https://localhost:8080/"
        },
        "outputId": "cf7f9aaf-b5b0-4f90-a7df-9da9c57beb30"
      },
      "execution_count": null,
      "outputs": [
        {
          "output_type": "stream",
          "name": "stdout",
          "text": [
            "Training Accuracy:\t 0.4634551495016611\n",
            "Test  Accuracy:\t 0.379182156133829\n"
          ]
        }
      ]
    },
    {
      "cell_type": "markdown",
      "source": [
        "For svm.SVC, the training accuracy is approximately 46% and test accuracy is around 38%."
      ],
      "metadata": {
        "id": "LenXQmU81nD1"
      }
    },
    {
      "cell_type": "code",
      "source": [
        "Ac = np.mean(ysp[Y_test.astype(int)==0]==0)\n",
        "Ar = np.mean(ysp[Y_test.astype(int)==1]==1)\n",
        "\n",
        "Mc = np.mean(ysp[Y_test.astype(int)==0]==1)\n",
        "Mr = np.mean(ysp[Y_test.astype(int)==1]==0)\n",
        "\n",
        "CM = np.array([[Ac, Mc],[Mr, Ar]])\n",
        "\n",
        "showConfMat(CM)"
      ],
      "metadata": {
        "id": "zXCddxnhq6bt",
        "colab": {
          "base_uri": "https://localhost:8080/",
          "height": 437
        },
        "outputId": "448c9e19-1a35-4062-85ec-0a9d76906086"
      },
      "execution_count": null,
      "outputs": [
        {
          "output_type": "display_data",
          "data": {
            "text/plain": [
              "<Figure size 480x480 with 1 Axes>"
            ],
            "image/png": "[encoded data removed]"
          },
          "metadata": {}
        }
      ]
    },
    {
      "cell_type": "markdown",
      "source": [
        "From the confusion matrix, we could see that the model correctly predicted 62% of ‘Chips’ images and the model correctly predicted 36% of ‘Rice’ images. It shows that the model is better at predicting 'chips' than 'rice'. But still, there are significant amount of misclassifications. For example, when the actual is 'rice', the model predicts it as 'chips' for 64%."
      ],
      "metadata": {
        "id": "mUTgPzkW16o4"
      }
    },
    {
      "cell_type": "markdown",
      "source": [
        "In conclusion, although the LinearSVC model had the highest accuracy, it did not perform well on the ‘Chips’ class. The Random Forest Classifier performed slightly better on the 'Rice' images and smv.SVC has the lowest accuracy and did not do well on performing 'Rice' images."
      ],
      "metadata": {
        "id": "5BUyR4OM2SGr"
      }
    },
    {
      "cell_type": "markdown",
      "source": [
        "In order to make improvement, I would like to do another experiment to the model by adding new feature. Shape is an important factor. Rice and chips have different shapes and let see if the model's performance is improved or not."
      ],
      "metadata": {
        "id": "VcbM5qDf2qei"
      }
    },
    {
      "cell_type": "markdown",
      "source": [
        "Since LinearSVC is not able to classify any 'Chips' images, I will only use Random Forest Classifier and svm.SVC for the second experiment and evaluate their performance."
      ],
      "metadata": {
        "id": "s-O90cPZ3IJz"
      }
    },
    {
      "cell_type": "code",
      "source": [
        "from skimage.feature import ORB\n",
        "from skimage.feature import graycomatrix, graycoprops\n",
        "from skimage.measure import regionprops\n",
        "from skimage.segmentation import slic\n",
        "\n",
        "\n",
        "def get_yellow_component(I,t1=27, t2=33):\n",
        "  Ihsv = (rgb2hsv(I)*255).astype('uint8')\n",
        "  mask = (Ihsv[:,:,0]<t2)*(Ihsv[:,:,0]>t1)\n",
        "  Ypx = mask.sum()\n",
        "  return Ypx\n",
        "\n",
        "def get_shape_features(I):\n",
        "\n",
        "  segments = slic(I, n_segments=100, compactness=10)\n",
        "  props = regionprops(segments)\n",
        "  aspect_ratios = [prop.major_axis_length / prop.minor_axis_length for prop in props]\n",
        "  return np.mean(aspect_ratios)\n",
        "\n",
        "def get_texture_features(I):\n",
        "\n",
        "  Ig = (rgb2gray(I)*255).astype('uint8')\n",
        "  glcm = graycomatrix(Ig, distances=[5], angles=[0], levels=256, symmetric=True, normed=True)\n",
        "  dissimilarity = graycoprops(glcm, 'dissimilarity')[0, 0]\n",
        "  correlation = graycoprops(glcm, 'correlation')[0, 0]\n",
        "  return dissimilarity, correlation\n",
        "\n",
        "def showConfMat(CM, labels = ['Chips','Rice']):\n",
        "  plt.matshow(CM,cmap='Blues')\n",
        "  for i in range(CM.shape[0]):\n",
        "    for j in range(CM.shape[1]):\n",
        "      plt.text(i,j,CM[i,j].round(2),ha='center',)\n",
        "  plt.xticks([0,1],labels)\n",
        "  plt.yticks([0,1],labels)\n",
        "  plt.show()"
      ],
      "metadata": {
        "id": "CMSDAs8Zoyr-"
      },
      "execution_count": null,
      "outputs": []
    },
    {
      "cell_type": "code",
      "source": [
        "X_train_f = []\n",
        "for k, I in enumerate(X_train):\n",
        "  f1 = get_yellow_component(I)\n",
        "  f2 = get_shape_features(I)\n",
        "  f3,f4 = get_texture_features(I)\n",
        "  X_train_f.append([f1,f2,f3,f4])\n",
        "\n",
        "X_test_f = []\n",
        "for k, I in enumerate(X_test):\n",
        "  f1 = get_yellow_component(I)\n",
        "  f2 = get_shape_features(I)\n",
        "  f3,f4 = get_texture_features(I)\n",
        "  X_test_f.append([f1,f2,f3,f4])"
      ],
      "metadata": {
        "id": "Kxzj8j5XszlO"
      },
      "execution_count": null,
      "outputs": []
    },
    {
      "cell_type": "code",
      "source": [
        "X_train_f = np.array(X_train_f)\n",
        "X_test_f = np.array(X_test_f)\n",
        "X_train_f.shape, X_test_f.shape"
      ],
      "metadata": {
        "id": "Mqybf68Atve6",
        "colab": {
          "base_uri": "https://localhost:8080/"
        },
        "outputId": "a97c4d9c-617c-48af-d884-8c0af1a7d0af"
      },
      "execution_count": null,
      "outputs": [
        {
          "output_type": "execute_result",
          "data": {
            "text/plain": [
              "((602, 4), (269, 4))"
            ]
          },
          "metadata": {},
          "execution_count": 170
        }
      ]
    },
    {
      "cell_type": "code",
      "source": [
        "MEAN = X_train_f.mean(0)\n",
        "SD = X_train_f.std(0)\n",
        "\n",
        "X_train_fn = (X_train_f - MEAN)/SD\n",
        "X_test_fn = (X_test_f - MEAN)/SD"
      ],
      "metadata": {
        "id": "xP113l5KuEvs"
      },
      "execution_count": null,
      "outputs": []
    },
    {
      "cell_type": "code",
      "source": [
        "print(X_train_fn.shape)\n",
        "print(X_test_fn.shape)"
      ],
      "metadata": {
        "id": "8dJroW1fuFWz",
        "colab": {
          "base_uri": "https://localhost:8080/"
        },
        "outputId": "c2b32236-7778-4f68-ef9b-9fa681f1eab1"
      },
      "execution_count": null,
      "outputs": [
        {
          "output_type": "stream",
          "name": "stdout",
          "text": [
            "(602, 4)\n",
            "(269, 4)\n"
          ]
        }
      ]
    },
    {
      "cell_type": "code",
      "source": [
        "from sklearn.ensemble import RandomForestClassifier\n",
        "from sklearn.svm import LinearSVC\n",
        "\n",
        "model = RandomForestClassifier(n_estimators=5,max_depth=3,class_weight='balanced')\n",
        "model.fit(X_train_fn, Y_train)"
      ],
      "metadata": {
        "id": "FDo6IFQHuT2l",
        "colab": {
          "base_uri": "https://localhost:8080/",
          "height": 74
        },
        "outputId": "48e14977-0041-4b63-99e7-fabceae5896d"
      },
      "execution_count": null,
      "outputs": [
        {
          "output_type": "execute_result",
          "data": {
            "text/plain": [
              "RandomForestClassifier(class_weight='balanced', max_depth=3, n_estimators=5)"
            ],
            "text/html": [
              "<style>#sk-container-id-20 {color: black;background-color: white;}#sk-container-id-20 pre{padding: 0;}#sk-container-id-20 div.sk-toggleable {background-color: white;}#sk-container-id-20 label.sk-toggleable__label {cursor: pointer;display: block;width: 100%;margin-bottom: 0;padding: 0.3em;box-sizing: border-box;text-align: center;}#sk-container-id-20 label.sk-toggleable__label-arrow:before {content: \"▸\";float: left;margin-right: 0.25em;color: #696969;}#sk-container-id-20 label.sk-toggleable__label-arrow:hover:before {color: black;}#sk-container-id-20 div.sk-estimator:hover label.sk-toggleable__label-arrow:before {color: black;}#sk-container-id-20 div.sk-toggleable__content {max-height: 0;max-width: 0;overflow: hidden;text-align: left;background-color: #f0f8ff;}#sk-container-id-20 div.sk-toggleable__content pre {margin: 0.2em;color: black;border-radius: 0.25em;background-color: #f0f8ff;}#sk-container-id-20 input.sk-toggleable__control:checked~div.sk-toggleable__content {max-height: 200px;max-width: 100%;overflow: auto;}#sk-container-id-20 input.sk-toggleable__control:checked~label.sk-toggleable__label-arrow:before {content: \"▾\";}#sk-container-id-20 div.sk-estimator input.sk-toggleable__control:checked~label.sk-toggleable__label {background-color: #d4ebff;}#sk-container-id-20 div.sk-label input.sk-toggleable__control:checked~label.sk-toggleable__label {background-color: #d4ebff;}#sk-container-id-20 input.sk-hidden--visually {border: 0;clip: rect(1px 1px 1px 1px);clip: rect(1px, 1px, 1px, 1px);height: 1px;margin: -1px;overflow: hidden;padding: 0;position: absolute;width: 1px;}#sk-container-id-20 div.sk-estimator {font-family: monospace;background-color: #f0f8ff;border: 1px dotted black;border-radius: 0.25em;box-sizing: border-box;margin-bottom: 0.5em;}#sk-container-id-20 div.sk-estimator:hover {background-color: #d4ebff;}#sk-container-id-20 div.sk-parallel-item::after {content: \"\";width: 100%;border-bottom: 1px solid gray;flex-grow: 1;}#sk-container-id-20 div.sk-label:hover label.sk-toggleable__label {background-color: #d4ebff;}#sk-container-id-20 div.sk-serial::before {content: \"\";position: absolute;border-left: 1px solid gray;box-sizing: border-box;top: 0;bottom: 0;left: 50%;z-index: 0;}#sk-container-id-20 div.sk-serial {display: flex;flex-direction: column;align-items: center;background-color: white;padding-right: 0.2em;padding-left: 0.2em;position: relative;}#sk-container-id-20 div.sk-item {position: relative;z-index: 1;}#sk-container-id-20 div.sk-parallel {display: flex;align-items: stretch;justify-content: center;background-color: white;position: relative;}#sk-container-id-20 div.sk-item::before, #sk-container-id-20 div.sk-parallel-item::before {content: \"\";position: absolute;border-left: 1px solid gray;box-sizing: border-box;top: 0;bottom: 0;left: 50%;z-index: -1;}#sk-container-id-20 div.sk-parallel-item {display: flex;flex-direction: column;z-index: 1;position: relative;background-color: white;}#sk-container-id-20 div.sk-parallel-item:first-child::after {align-self: flex-end;width: 50%;}#sk-container-id-20 div.sk-parallel-item:last-child::after {align-self: flex-start;width: 50%;}#sk-container-id-20 div.sk-parallel-item:only-child::after {width: 0;}#sk-container-id-20 div.sk-dashed-wrapped {border: 1px dashed gray;margin: 0 0.4em 0.5em 0.4em;box-sizing: border-box;padding-bottom: 0.4em;background-color: white;}#sk-container-id-20 div.sk-label label {font-family: monospace;font-weight: bold;display: inline-block;line-height: 1.2em;}#sk-container-id-20 div.sk-label-container {text-align: center;}#sk-container-id-20 div.sk-container {/* jupyter's `normalize.less` sets `[hidden] { display: none; }` but bootstrap.min.css set `[hidden] { display: none !important; }` so we also need the `!important` here to be able to override the default hidden behavior on the sphinx rendered scikit-learn.org. See: https://github.com/scikit-learn/scikit-learn/issues/21755 */display: inline-block !important;position: relative;}#sk-container-id-20 div.sk-text-repr-fallback {display: none;}</style><div id=\"sk-container-id-20\" class=\"sk-top-container\"><div class=\"sk-text-repr-fallback\"><pre>RandomForestClassifier(class_weight=&#x27;balanced&#x27;, max_depth=3, n_estimators=5)</pre><b>In a Jupyter environment, please rerun this cell to show the HTML representation or trust the notebook. <br />On GitHub, the HTML representation is unable to render, please try loading this page with nbviewer.org.</b></div><div class=\"sk-container\" hidden><div class=\"sk-item\"><div class=\"sk-estimator sk-toggleable\"><input class=\"sk-toggleable__control sk-hidden--visually\" id=\"sk-estimator-id-20\" type=\"checkbox\" checked><label for=\"sk-estimator-id-20\" class=\"sk-toggleable__label sk-toggleable__label-arrow\">RandomForestClassifier</label><div class=\"sk-toggleable__content\"><pre>RandomForestClassifier(class_weight=&#x27;balanced&#x27;, max_depth=3, n_estimators=5)</pre></div></div></div></div></div>"
            ]
          },
          "metadata": {},
          "execution_count": 176
        }
      ]
    },
    {
      "cell_type": "code",
      "source": [
        "ytp = model.predict(X_train_fn)\n",
        "ysp = model.predict(X_test_fn)\n",
        "\n",
        "train_accuracy = np.mean(ytp==Y_train)\n",
        "test_accuracy  = np.mean(ysp==Y_test)\n",
        "\n",
        "print('Training Accuracy:\\t',train_accuracy)\n",
        "print('Test  Accuracy:\\t',test_accuracy)"
      ],
      "metadata": {
        "id": "dohudN1zuY3D",
        "colab": {
          "base_uri": "https://localhost:8080/"
        },
        "outputId": "591a99e3-af93-4a46-aaf3-4c13f22f35fe"
      },
      "execution_count": null,
      "outputs": [
        {
          "output_type": "stream",
          "name": "stdout",
          "text": [
            "Training Accuracy:\t 0.8305647840531561\n",
            "Test  Accuracy:\t 0.8066914498141264\n"
          ]
        }
      ]
    },
    {
      "cell_type": "markdown",
      "source": [
        "The training accuracy is around 83% and test accuracy is approximately 81%. The model's performance has improved."
      ],
      "metadata": {
        "id": "KIjAWvAQ3XkL"
      }
    },
    {
      "cell_type": "code",
      "source": [
        "Ac = np.mean(ysp[Y_test.astype(int)==0]==0)\n",
        "Ar = np.mean(ysp[Y_test.astype(int)==1]==1)\n",
        "\n",
        "Mc = np.mean(ysp[Y_test.astype(int)==0]==1)\n",
        "Mr = np.mean(ysp[Y_test.astype(int)==1]==0)\n",
        "\n",
        "CM = np.array([[Ac, Mc],[Mr, Ar]])\n",
        "\n",
        "showConfMat(CM)"
      ],
      "metadata": {
        "id": "5scIuZQ9ucnT",
        "colab": {
          "base_uri": "https://localhost:8080/",
          "height": 437
        },
        "outputId": "1a9b4ee6-e93f-4d0d-fa27-3ce8eaf73f16"
      },
      "execution_count": null,
      "outputs": [
        {
          "output_type": "display_data",
          "data": {
            "text/plain": [
              "<Figure size 480x480 with 1 Axes>"
            ],
            "image/png": "[encoded data removed]"
          },
          "metadata": {}
        }
      ]
    },
    {
      "cell_type": "markdown",
      "source": [
        "From the confusion matrix, we could see that the model correctly predicted 24% of ‘Chips’ images and the model correctly predicted 85% of ‘Rice’ images. Besides, there is a significant amount of classification of 76% when the actual is 'Chips' and the model predicts it as 'Rice'."
      ],
      "metadata": {
        "id": "Iya6yCt83fzM"
      }
    },
    {
      "cell_type": "code",
      "source": [
        "from sklearn import svm\n",
        "\n",
        "model = svm.SVC(kernel='rbf', class_weight='balanced')\n",
        "\n",
        "model.fit(X_train_fn, Y_train)\n",
        "\n",
        "ytp = model.predict(X_train_fn)\n",
        "ysp = model.predict(X_test_fn)"
      ],
      "metadata": {
        "id": "CoTktMkhuf2u"
      },
      "execution_count": null,
      "outputs": []
    },
    {
      "cell_type": "code",
      "source": [
        "train_accuracy = np.mean(ytp==Y_train)\n",
        "test_accuracy  = np.mean(ysp==Y_test)\n",
        "\n",
        "print('Training Accuracy:\\t',train_accuracy)\n",
        "print('Test  Accuracy:\\t',test_accuracy)"
      ],
      "metadata": {
        "id": "39eLpkwhum-y",
        "colab": {
          "base_uri": "https://localhost:8080/"
        },
        "outputId": "b480f73c-6f0a-41f1-e171-870e0318468b"
      },
      "execution_count": null,
      "outputs": [
        {
          "output_type": "stream",
          "name": "stdout",
          "text": [
            "Training Accuracy:\t 0.5598006644518272\n",
            "Test  Accuracy:\t 0.4721189591078067\n"
          ]
        }
      ]
    },
    {
      "cell_type": "markdown",
      "source": [
        "For svm.SVC, the training accuracy is around 56% and test accuracy is 47%. The model's performance has improved."
      ],
      "metadata": {
        "id": "Rpqo4lt74EjK"
      }
    },
    {
      "cell_type": "code",
      "source": [
        "Ac = np.mean(ysp[Y_test.astype(int)==0]==0)\n",
        "Ar = np.mean(ysp[Y_test.astype(int)==1]==1)\n",
        "\n",
        "Mc = np.mean(ysp[Y_test.astype(int)==0]==1)\n",
        "Mr = np.mean(ysp[Y_test.astype(int)==1]==0)\n",
        "\n",
        "CM = np.array([[Ac, Mc],[Mr, Ar]])\n",
        "\n",
        "showConfMat(CM)"
      ],
      "metadata": {
        "id": "C_qmhAy7up0o",
        "colab": {
          "base_uri": "https://localhost:8080/",
          "height": 437
        },
        "outputId": "8c16ab04-9316-4abc-fb4f-03cfa1318957"
      },
      "execution_count": null,
      "outputs": [
        {
          "output_type": "display_data",
          "data": {
            "text/plain": [
              "<Figure size 480x480 with 1 Axes>"
            ],
            "image/png": "[encoded data removed]"
          },
          "metadata": {}
        }
      ]
    },
    {
      "cell_type": "markdown",
      "source": [
        "For the confusion matrix, we could see that the model correctly predicted 52% of ‘Chips’ images and the model correctly predicted 47% of ‘Rice’ images."
      ],
      "metadata": {
        "id": "A2_5GZJa4Mve"
      }
    },
    {
      "cell_type": "markdown",
      "source": [
        "# Small conclusion from results\n",
        "\n",
        "In terms of accuracy, we could see that by adding shape feature to the model, both Random Forest Classifier and svm.SVC model's performance has improved.\n",
        "\n",
        "For the Random Forest Classifier, the training accuracy increased from 68.11% to 83.06%, and the test accuracy increased from 61.71% to 80.67%.\n",
        "\n",
        "For the svm.SVC model, the training accuracy increased from 46.35% to 55.98%, and the test accuracy increased from 37.92% to 47.21%.\n",
        "\n",
        "This suggests that the shape features provided additional helpful information that helped the models to better distinguish between ‘rice’ and ‘chips’ images.\n",
        "\n",
        "In terms of confusion matrix, it shows that there is still room of improvements.\n",
        "\n",
        "For the Random Forest Classifier, the model correct prediction on 'Chips' images decreases from 43% to 24% and the model correction prediction on 'Rice' images increases from 63% to 85%.\n",
        "\n",
        "For svm.SVC model, the model correct prediction on 'Chips' images decreases from 62% to 52% and the model correction prediction on 'Rice' images increases from 36% to 47%.\n",
        "\n",
        "Therefore, we could conclude that shape feature is more informative for 'Rice' class than 'Chips' class. One reason behind is that most rice have distinct shape but chips can have different shapes like triangle, round, square or irregular etc."
      ],
      "metadata": {
        "id": "7qH_LHOy25He"
      }
    },
    {
      "cell_type": "markdown",
      "source": [
        "# 9 Conclusions\n",
        "\n",
        "In conclusion, I have performed two experiments for image classification. It is noticed that adding shape feature could improve the model's general performance in terms of accuracy.\n",
        "\n",
        "By comparing the accuracy of Random Forest Classifier and svm.SVC, we can see that Random Forest Classifier has a higher accuracy. However, when we evlauate the performance using both accuracy and confusion matrix, we could see that Random Forest Classifier is only good at predicting 'Rice' images but not performing well at predicting 'Chips' images. Therefore, if you ask me what is the best model for image classification for this project, I could not give you a specific answer. It depends on whether you want to predict 'Rice' images better or 'Chips' images better. If you want the former, I recommend you to choose Random Forest Classifier in experiment 2 with additional shape feature. If you want the latter, I recommend you to choose svm.SVC model in experiment 1 with no additional shape feature. However, it is suggested to do more trial and research in order to improve the model's performance at predicting 'Chips' images since it is not as high as that at predicting 'Rice' images.\n",
        "\n",
        "\n",
        "Still, room of improvements is needed for this project. First, it is suggested to include more relevant features from the images, such as edge detection features, size features etc. Second, more machine learning models should be tried in order to improve the results. By improving the results, it can help users better at using the food identification app in reality.  \n"
      ],
      "metadata": {
        "id": "Dummg-hU5rPp"
      }
    }
  ]
}